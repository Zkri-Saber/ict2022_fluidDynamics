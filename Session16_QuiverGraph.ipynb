{
  "nbformat": 4,
  "nbformat_minor": 0,
  "metadata": {
    "colab": {
      "name": "Session16_QuiverGraph.ipynb",
      "provenance": [],
      "collapsed_sections": [],
      "authorship_tag": "ABX9TyNxN30g67Dvz7CpoOwSPo3P",
      "include_colab_link": true
    },
    "kernelspec": {
      "name": "python3",
      "display_name": "Python 3"
    },
    "language_info": {
      "name": "python"
    }
  },
  "cells": [
    {
      "cell_type": "markdown",
      "metadata": {
        "id": "view-in-github",
        "colab_type": "text"
      },
      "source": [
        "<a href=\"https://colab.research.google.com/github/greenty5/ict2022_fluidDynamics/blob/main/Session16_QuiverGraph.ipynb\" target=\"_parent\"><img src=\"https://colab.research.google.com/assets/colab-badge.svg\" alt=\"Open In Colab\"/></a>"
      ]
    },
    {
      "cell_type": "markdown",
      "source": [
        "## Fluid Dynamics with Python (ICT Summer School 2022)\n",
        "### Session 1.6 How to draw qiuver (vector) graph by matplotlib"
      ],
      "metadata": {
        "id": "8AOmqGvHr2Wf"
      }
    },
    {
      "cell_type": "markdown",
      "source": [
        "In this ipynb file, let us learn how to draw quiver (vector) graph in google colabratory.\n",
        "Quiver (vector) graph is useful to descrive fluid flow fied."
      ],
      "metadata": {
        "id": "hWKK-esYsJQO"
      }
    },
    {
      "cell_type": "markdown",
      "source": [
        "First of all, we have to import python laibraries as we learned the previous session."
      ],
      "metadata": {
        "id": "hhMWz8GPsUqc"
      }
    },
    {
      "cell_type": "code",
      "source": [
        "import numpy as np # fundamental package for scientific computing\n",
        "import matplotlib.pyplot as plt # visualization package"
      ],
      "metadata": {
        "id": "4AYhYtsrsdDv"
      },
      "execution_count": null,
      "outputs": []
    },
    {
      "cell_type": "markdown",
      "source": [
        "Here, let us try to drow some vectors in a graph. please setup the figure environment and draw a quiver (vector) as follow:\n",
        "\n"
      ],
      "metadata": {
        "id": "5JqxZ7YFthBv"
      }
    },
    {
      "cell_type": "code",
      "source": [
        "fig = plt.figure(figsize=(5,5))\n",
        "ax = fig.add_subplot(111)\n",
        "ax.grid()\n",
        "\n",
        "ax.set_xlim(-3,3)\n",
        "ax.set_ylim(-3,3)\n",
        "\n",
        "ax.axhline(0, color = \"gray\")\n",
        "ax.axvline(0, color = \"gray\")\n",
        "\n",
        "ax.quiver(0, 0, 2, 1, color =\"red\", angles = 'xy', scale_units ='xy', scale = 1)\n",
        "\n",
        "ax.text(2,1,\"[2, 1]\", color = \"red\", size = 15)\n",
        "\n",
        "plt.show()"
      ],
      "metadata": {
        "id": "cvoTqLR_YhnX",
        "colab": {
          "base_uri": "https://localhost:8080/",
          "height": 324
        },
        "outputId": "76a8fb25-1088-428b-c8e1-acf28da77a87"
      },
      "execution_count": null,
      "outputs": [
        {
          "output_type": "display_data",
          "data": {
            "text/plain": [
              "<Figure size 360x360 with 1 Axes>"
            ],
            "image/png": "[encoded data removed]"
          },
          "metadata": {
            "needs_background": "light"
          }
        }
      ]
    },
    {
      "cell_type": "markdown",
      "source": [
        "We can use __[quiever](https://matplotlib.org/stable/api/_as_gen/matplotlib.pyplot.quiver.html)__ function like\n",
        "```python\n",
        "ax.quiver(X, Y, U, V, [C], [angles], [scale_units])\n",
        "```\n",
        "where _X, Y_ define the arrow locations, _U, V_ define the arrow directions, and C optionally sets the color. __scale_units__ is an option setting to adjust the scale of the vector. __angle__ is also an option setting for how to determine the angle of the arrows."
      ],
      "metadata": {
        "id": "x_zjQkGLhPwx"
      }
    },
    {
      "cell_type": "markdown",
      "source": [
        "---\n",
        "\n",
        "<font color='orange'>Over to you!</font>:\n",
        "\n",
        "Let us make your own vector and display it's quiver graph here.\n",
        "\n",
        "\n",
        "\n",
        "blah-blah-blah\n",
        "\n",
        "---"
      ],
      "metadata": {
        "id": "b2bZBhPRw5NV"
      }
    },
    {
      "cell_type": "markdown",
      "source": [
        "let us build user-function for graph (coordinate) setting;"
      ],
      "metadata": {
        "id": "y2cJ01GNwlI7"
      }
    },
    {
      "cell_type": "code",
      "source": [
        "def coordinate(axes, range_x, range_y, grid = True, xyline = True, xlabel = \"X\", ylabel = \"y\"):\n",
        "  axes.set_xlabel(xlabel, fontsize = 16)\n",
        "  axes.set_ylabel(ylabel, fontsize = 16)\n",
        "  axes.set_xlim(range_x[0], range_x[1])\n",
        "  axes.set_ylim(range_y[0], range_y[1])\n",
        "  if grid == True:\n",
        "    axes.grid()\n",
        "  if xyline == True:\n",
        "    axes.axhline(0, color = \"gray\")\n",
        "    axes.axvline(0, color = \"gray\")"
      ],
      "metadata": {
        "id": "IkexYCx2u0lF"
      },
      "execution_count": null,
      "outputs": []
    },
    {
      "cell_type": "markdown",
      "source": [
        "and define the quiver (vector) graph function like:"
      ],
      "metadata": {
        "id": "wxs6faXEwu6g"
      }
    },
    {
      "cell_type": "code",
      "source": [
        "def visual_vector(axes, loc, vector, color=\"red\"):\n",
        "  axes.quiver(loc[0], loc[1], vector[0], vector[1], color = color, angles ='xy', scale_units='xy', scale=1)"
      ],
      "metadata": {
        "id": "35zUWSE5vO1Z"
      },
      "execution_count": null,
      "outputs": []
    },
    {
      "cell_type": "code",
      "source": [
        "fig = plt.figure(figsize=(8,8))\n",
        "ax = fig.add_subplot(111)\n",
        "\n",
        "coordinate(ax, [-3,3], [-3,3])\n",
        "\n",
        "v = np.array([2,1])\n",
        "w = np.array([-1,1])\n",
        "\n",
        "visual_vector(ax, [0,0], v, \"red\")\n",
        "\n",
        "visual_vector(ax,v, w, \"blue\")\n",
        "\n",
        "visual_vector(ax, [0,0], v+w, \"green\")\n",
        "\n",
        "plt.show()"
      ],
      "metadata": {
        "colab": {
          "base_uri": "https://localhost:8080/",
          "height": 506
        },
        "id": "E2LfhU0Fv3Io",
        "outputId": "6b73c6fc-0aca-4901-d4c9-242f9b337995"
      },
      "execution_count": null,
      "outputs": [
        {
          "output_type": "display_data",
          "data": {
            "text/plain": [
              "<Figure size 576x576 with 1 Axes>"
            ],
            "image/png": "[encoded data removed]"
          },
          "metadata": {
            "needs_background": "light"
          }
        }
      ]
    },
    {
      "cell_type": "markdown",
      "source": [
        "***\n",
        "---"
      ],
      "metadata": {
        "id": "cZGqUDZNw4ZI"
      }
    },
    {
      "cell_type": "markdown",
      "source": [
        "Now let us make 2D quiver (vector) graph."
      ],
      "metadata": {
        "id": "lvFLXADE6s9d"
      }
    },
    {
      "cell_type": "code",
      "source": [
        "x = y = np.arange(-5, 6)\n",
        "u = 2 * x\n",
        "v = 3 * y\n",
        "x"
      ],
      "metadata": {
        "colab": {
          "base_uri": "https://localhost:8080/"
        },
        "id": "TeXZVG4vvp8W",
        "outputId": "f8ece5bc-d4f7-40ae-a992-932e964a4eb6"
      },
      "execution_count": null,
      "outputs": [
        {
          "output_type": "execute_result",
          "data": {
            "text/plain": [
              "array([-5, -4, -3, -2, -1,  0,  1,  2,  3,  4,  5])"
            ]
          },
          "metadata": {},
          "execution_count": 8
        }
      ]
    },
    {
      "cell_type": "code",
      "source": [
        "X, Y = np.meshgrid(x,y)\n",
        "U, V = np.meshgrid(u,v)"
      ],
      "metadata": {
        "id": "GPupCkXCzSIE"
      },
      "execution_count": null,
      "outputs": []
    },
    {
      "cell_type": "markdown",
      "source": [
        "__[meshgrid](https://numpy.org/doc/stable/reference/generated/numpy.meshgrid.html)__ function returns corrdinate matrices from coordinate vectors. "
      ],
      "metadata": {
        "id": "-Ai7LtxJ0CCa"
      }
    },
    {
      "cell_type": "markdown",
      "source": [
        "Let us check the arrays _x_ and _X_ and confirm what differences between them."
      ],
      "metadata": {
        "id": "W6R8DJ-86VRk"
      }
    },
    {
      "cell_type": "code",
      "source": [
        ""
      ],
      "metadata": {
        "colab": {
          "base_uri": "https://localhost:8080/"
        },
        "id": "d4fIzpdi6HKR",
        "outputId": "560a2b15-0bc9-4423-e962-62cecd07883c"
      },
      "execution_count": null,
      "outputs": [
        {
          "output_type": "execute_result",
          "data": {
            "text/plain": [
              "array([-5, -4, -3, -2, -1,  0,  1,  2,  3,  4,  5])"
            ]
          },
          "metadata": {},
          "execution_count": 11
        }
      ]
    },
    {
      "cell_type": "code",
      "source": [
        ""
      ],
      "metadata": {
        "colab": {
          "base_uri": "https://localhost:8080/"
        },
        "id": "JQYRWToI5j5P",
        "outputId": "eefdb57d-58a2-40aa-9fb9-47e29ae31a23"
      },
      "execution_count": null,
      "outputs": [
        {
          "output_type": "execute_result",
          "data": {
            "text/plain": [
              "array([[-5, -4, -3, -2, -1,  0,  1,  2,  3,  4,  5],\n",
              "       [-5, -4, -3, -2, -1,  0,  1,  2,  3,  4,  5],\n",
              "       [-5, -4, -3, -2, -1,  0,  1,  2,  3,  4,  5],\n",
              "       [-5, -4, -3, -2, -1,  0,  1,  2,  3,  4,  5],\n",
              "       [-5, -4, -3, -2, -1,  0,  1,  2,  3,  4,  5],\n",
              "       [-5, -4, -3, -2, -1,  0,  1,  2,  3,  4,  5],\n",
              "       [-5, -4, -3, -2, -1,  0,  1,  2,  3,  4,  5],\n",
              "       [-5, -4, -3, -2, -1,  0,  1,  2,  3,  4,  5],\n",
              "       [-5, -4, -3, -2, -1,  0,  1,  2,  3,  4,  5],\n",
              "       [-5, -4, -3, -2, -1,  0,  1,  2,  3,  4,  5],\n",
              "       [-5, -4, -3, -2, -1,  0,  1,  2,  3,  4,  5]])"
            ]
          },
          "metadata": {},
          "execution_count": 10
        }
      ]
    },
    {
      "cell_type": "markdown",
      "source": [
        "---"
      ],
      "metadata": {
        "id": "4PwQADHQ6nD6"
      }
    },
    {
      "cell_type": "code",
      "source": [
        "import numpy as np\n",
        "import matplotlib.pyplot as plt\n",
        "\n",
        "fig, axes = plt.subplots(1,2,figsize=(8,4))\n",
        "\n",
        "\n",
        "lim = 8\n",
        "for ax in axes:\n",
        "  ax.set_xlim(-lim, lim)\n",
        "  ax.set_ylim(-lim, lim)\n",
        "\n",
        "  ax.set_xticks(np.arange(-lim, lim, 1))\n",
        "  ax.set_yticks(np.arange(-lim, lim, 1))\n",
        "\n",
        "  ax.grid()\n",
        "  ax.set_aspect('equal')\n",
        "\n",
        "C = np.sqrt(U*U + V*V) # calculating magnitude of velocity\n",
        "axes[0].quiver(X, Y, U, V)\n",
        "axes[1].quiver(X, Y, U, V, C, scale=100, cmap='Blues')\n",
        "\n",
        "plt.show()"
      ],
      "metadata": {
        "colab": {
          "base_uri": "https://localhost:8080/",
          "height": 251
        },
        "id": "p7RtCdNB365f",
        "outputId": "85da1d2a-513b-4bee-b7ce-73705ae08947"
      },
      "execution_count": null,
      "outputs": [
        {
          "output_type": "display_data",
          "data": {
            "text/plain": [
              "<Figure size 576x288 with 2 Axes>"
            ],
            "image/png": "[encoded data removed]"
          },
          "metadata": {
            "needs_background": "light"
          }
        }
      ]
    },
    {
      "cell_type": "markdown",
      "source": [
        "The left-hand side figure simply gives the starting point and components, a single color, and the scale of the vector is automatically adjusted.\n",
        "\n",
        "The right-hand side figure specifies an array for scale and coloring, and the vectors are colored by colormap according to their size."
      ],
      "metadata": {
        "id": "hrBxFF279wmV"
      }
    },
    {
      "cell_type": "markdown",
      "source": [
        "***\n",
        "---"
      ],
      "metadata": {
        "id": "JBj6jIb--qJ8"
      }
    },
    {
      "cell_type": "markdown",
      "source": [
        "<font color='orange'>Over to you!!</font>\n",
        "\n",
        "Please make your own vector data and make some quiver graphs here !"
      ],
      "metadata": {
        "id": "PAWzT5jN7G3b"
      }
    },
    {
      "cell_type": "code",
      "source": [
        ""
      ],
      "metadata": {
        "id": "kFQ9yJc37TTw"
      },
      "execution_count": null,
      "outputs": []
    },
    {
      "cell_type": "markdown",
      "source": [
        "---"
      ],
      "metadata": {
        "id": "DBurzbYi7DMH"
      }
    },
    {
      "cell_type": "markdown",
      "source": [
        "That's all for this session. Job well done 😀"
      ],
      "metadata": {
        "id": "uqA2ZvV7cCRV"
      }
    }
  ]
}