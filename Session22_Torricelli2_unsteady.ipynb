{
  "nbformat": 4,
  "nbformat_minor": 0,
  "metadata": {
    "colab": {
      "name": "Session22_Torricelli2_unsteady.ipynb",
      "provenance": [],
      "collapsed_sections": [],
      "authorship_tag": "ABX9TyP7F3WgG30RdM1YzFoL07ct",
      "include_colab_link": true
    },
    "kernelspec": {
      "name": "python3",
      "display_name": "Python 3"
    },
    "language_info": {
      "name": "python"
    }
  },
  "cells": [
    {
      "cell_type": "markdown",
      "metadata": {
        "id": "view-in-github",
        "colab_type": "text"
      },
      "source": [
        "<a href=\"https://colab.research.google.com/github/greenty5/ict2022_fluidDynamics/blob/main/Session22_Torricelli2_unsteady.ipynb\" target=\"_parent\"><img src=\"https://colab.research.google.com/assets/colab-badge.svg\" alt=\"Open In Colab\"/></a>"
      ]
    },
    {
      "cell_type": "markdown",
      "source": [
        "# Fluid Dynamics with Python (ICT Summer School 2022)\n",
        "## Section 2.2.2 Bernoulli's principle (unsteady)\n",
        "***"
      ],
      "metadata": {
        "id": "8AOmqGvHr2Wf"
      }
    },
    {
      "cell_type": "markdown",
      "source": [
        "\n",
        "![Bernoulli's principle](https://i.imgur.com/aoBkgfj.jpeg)\n"
      ],
      "metadata": {
        "id": "HS9FOm26Kz0u"
      }
    },
    {
      "cell_type": "markdown",
      "source": [
        "***\n",
        "\n",
        "# Bernoulli's prinsiple for unsteady flow\n",
        "\n",
        "The equation mentioned above is for steady fluid flow. If we have to consider unsteady flow, then the Bernoulli's equation is expressed as:"
      ],
      "metadata": {
        "id": "qcpy1B_nyzre"
      }
    },
    {
      "cell_type": "markdown",
      "source": [
        "$$\\frac{1}{2} v^2 + gh + \\frac{p}{\\rho} + \\int \\frac{\\partial v}{\\partial t}ds = F_t$$"
      ],
      "metadata": {
        "id": "j5OWZSWhzHY1"
      }
    },
    {
      "cell_type": "markdown",
      "source": [
        "$\\int \\frac{\\partial v}{\\partial t} ds$ describes time-velocity change alongside _s_-axis, and $F_t$ indicates external forces like centrifugal force. "
      ],
      "metadata": {
        "id": "hICqvHX7aouD"
      }
    },
    {
      "cell_type": "markdown",
      "source": [
        "![](https://i.imgur.com/De5ooeb.png)\n"
      ],
      "metadata": {
        "id": "p-d1C8EUHJb3"
      }
    },
    {
      "cell_type": "markdown",
      "source": [
        "Applying the Bernoulli's equation of unsteady flow to the sketch mentioned above[$^*$](https://ramenhuhu.com/fluid-exercise2), "
      ],
      "metadata": {
        "id": "ueAYz51_HLz1"
      }
    },
    {
      "cell_type": "markdown",
      "source": [
        "$$\\frac{1}{2}U_1^2 + g y_1 + \\frac{p_1}{\\rho} + \\int \\frac{\\partial U}{\\partial t} dy = \\frac{1}{2} U^2_2 + gy + \\frac{p_2}{\\rho} + \\int \\frac{\\partial U}{\\partial t} dy\\$$\n",
        "\n",
        "$$\\frac{1}{2} (U^2_2 - U^2_1) + g(y_2 - y_1) + \\frac{p_2 - p_1}{\\rho} + \\int^{y_2}_{y_1} \\frac{\\partial U}{\\partial t} = 0$$"
      ],
      "metadata": {
        "id": "tbE7swzqHtw_"
      }
    },
    {
      "cell_type": "markdown",
      "source": [
        "here, $s$-axis coincides with $y$-axis. The subscript $1$ denotes the upper water level, and $2$ denotes the lower water level.\n",
        "\n",
        "This time, let us consider the case when the water level decreases as time elapses (last time, we considered that the water level did not change)."
      ],
      "metadata": {
        "id": "a2qddeX0ay_G"
      }
    },
    {
      "cell_type": "markdown",
      "source": [
        "now, water levels are in contact with the atmosphere of $p_1=p_2=p$,\n",
        "\n",
        "$$\\frac{1}{2} (U_2^2 - U_1^2) + g (y_2 - y_1) + \\frac{d U}{d t} (y_2 - y_1) = 0 \\hspace{5mm} \\cdots \\hspace{5mm} (1)$$"
      ],
      "metadata": {
        "id": "Lfh0JqDZIZtw"
      }
    },
    {
      "cell_type": "markdown",
      "source": [
        "The outflow velocity from the hole at the bottme of the barrel is \n",
        "\n",
        "$$U_2 = \\sqrt{2 g y_1}$$\n",
        "\n",
        "and volume flow rate should be kept in this system, \n",
        "\n",
        "$$F U_1 = f U_2$$\n",
        "\n",
        "where, F and f denote cross sections of the barrel and the hole, respectively.\n",
        "\n",
        "$$U_1 = \\frac{f}{F} \\sqrt{2 g y_1}$$"
      ],
      "metadata": {
        "id": "r3VmvN5WLvnk"
      }
    },
    {
      "cell_type": "markdown",
      "source": [
        "Now let us consider Eq.(1) with $y_2 = 0$,\n",
        "\n",
        "$$\\frac{1}{2} \\left[ U_2^2 - \\left( \\frac{f}{F} \\right)^2 U_2^2 \\right] + -(g y_1) + \\frac{dU}{dt} ( -y_1) = 0 $$\n",
        "\n",
        "$$\\frac{d U}{dt} = -g \\left( \\frac{f}{F} \\right)^2 $$"
      ],
      "metadata": {
        "id": "00k-0f2iM0AN"
      }
    },
    {
      "cell_type": "markdown",
      "source": [
        "$$U = - g \\left( \\frac{f}{F} \\right)^2 t + C_1 $$"
      ],
      "metadata": {
        "id": "OoCtr6-JOccH"
      }
    },
    {
      "cell_type": "markdown",
      "source": [
        "From the initial condition of this problem ($t=0; y_1 = H_0$), \n",
        "\n",
        "$$U(0) = \\frac{f}{F} \\sqrt{2 g H_0} = C_1$$"
      ],
      "metadata": {
        "id": "svLl9oBXOn9T"
      }
    },
    {
      "cell_type": "markdown",
      "source": [
        "where $U = - dy_1/dt$ ,\n",
        "\n",
        "$$-\\frac{d y_1}{dt} = -g \\left( \\frac{f}{F} \\right)^2 t + \\frac{f}{F} \\sqrt{2gH_0}$$\n",
        "\n",
        "$$-y_1 = - \\frac{g}{2} \\left( \\frac{f}{F} \\right)^2 t^2 + \\frac{f}{F} \\sqrt{2 g H_0} \\cdot t + C_2$$\n",
        "\n",
        "Applying the initial condition ($t=0; y_1=H_0$) again,\n",
        "\n",
        "$$C_2 = H_0$$\n",
        "\n",
        "here,\n",
        "\n",
        "$$\\frac{g}{2} \\left( \\frac{f}{F} \\right)^2 t^2 - \\sqrt{2gH_0} \\frac{f}{F} t + (H_0 - y_1) = 0$$\n",
        "\n",
        "Finally, we obtain a relation between water level and time;\n",
        "\n",
        "$$t = \\frac{F}{f} \\sqrt{\\frac{2}{g}} ( \\sqrt{H_0} - \\sqrt{y_1}) \\hspace{5mm} \\cdots (2) $$ "
      ],
      "metadata": {
        "id": "MSx30qzVV0PU"
      }
    },
    {
      "cell_type": "markdown",
      "source": [
        "The time that the water in barrel empties ($y_1 = 0$) can be estimated as\n",
        "\n",
        "$$t = \\frac{F}{f} \\sqrt{\\frac{2H_0}{g}} \\hspace{5mm} \\cdots (3)$$"
      ],
      "metadata": {
        "id": "gFmSKpcqXYxE"
      }
    },
    {
      "cell_type": "markdown",
      "source": [
        "***"
      ],
      "metadata": {
        "id": "j1fWIGY_dc-r"
      }
    },
    {
      "cell_type": "markdown",
      "source": [
        "# Practice / Torricelli's principle\n",
        "\n",
        "let us consider following situation; \n",
        "now barrel with a hole at the bottm is filled with water. The initial water level is 0.2 meters in height from the bottom. Diameters of the barrel and the hole are 0.5 and 0.01 m$^2$, respectively.\n",
        "\n",
        "How much time will be needed by the barrel is empty ? (This time, please consider the influence of the water level decreasing )"
      ],
      "metadata": {
        "id": "EG8I6B3bdN7h"
      }
    },
    {
      "cell_type": "code",
      "source": [
        "import numpy as np # fundamental package for scientific computing\n",
        "import matplotlib.pyplot as plt # visualization package"
      ],
      "metadata": {
        "id": "4AYhYtsrsdDv"
      },
      "execution_count": null,
      "outputs": []
    },
    {
      "cell_type": "code",
      "source": [
        "A = 0.5 # area of a barrel\n",
        "A0 = 0.01 # area of a hole at the bottom of the barrel\n",
        "g = 9.80665 # gravity\n",
        "H0=0.2 # initial water level"
      ],
      "metadata": {
        "id": "FpLXKuJov4b-"
      },
      "execution_count": null,
      "outputs": []
    },
    {
      "cell_type": "code",
      "source": [
        "\n",
        "print(\"time is ...\", t)"
      ],
      "metadata": {
        "colab": {
          "base_uri": "https://localhost:8080/"
        },
        "id": "qDdOw7YUbqS_",
        "outputId": "63c200de-8cd6-4eb6-ce1d-891b9fcfa435"
      },
      "execution_count": null,
      "outputs": [
        {
          "output_type": "execute_result",
          "data": {
            "text/plain": [
              "10.098099885512761"
            ]
          },
          "metadata": {},
          "execution_count": 9
        }
      ]
    },
    {
      "cell_type": "code",
      "source": [
        "H0 = np.linspace(0, 0.2, 20)"
      ],
      "metadata": {
        "id": "FcgUzks6wCCe"
      },
      "execution_count": null,
      "outputs": []
    },
    {
      "cell_type": "code",
      "source": [
        "t = (A/A0)*np.sqrt(2*H0/g)\n",
        "t"
      ],
      "metadata": {
        "colab": {
          "base_uri": "https://localhost:8080/"
        },
        "id": "Yzk8n9gBwJm1",
        "outputId": "24ca6222-71fd-4d04-8a36-c05c29a0d81d"
      },
      "execution_count": null,
      "outputs": [
        {
          "output_type": "execute_result",
          "data": {
            "text/plain": [
              "array([ 0.        ,  2.316663  ,  3.27625623,  4.01257801,  4.63332599,\n",
              "        5.18021594,  5.67464225,  6.12931416,  6.55251246,  6.94998899,\n",
              "        7.32593164,  7.68350192,  8.02515603,  8.35284722,  8.66815921,\n",
              "        8.9723972 ,  9.26665198,  9.55184623,  9.82876868, 10.09809989])"
            ]
          },
          "metadata": {},
          "execution_count": 17
        }
      ]
    },
    {
      "cell_type": "code",
      "source": [
        "plt.plot(t, 0.2-H0)\n",
        "plt.xlabel(\"Time [s]\")\n",
        "plt.ylabel(\"Water level [m]\")\n",
        "plt.show()"
      ],
      "metadata": {
        "colab": {
          "base_uri": "https://localhost:8080/",
          "height": 279
        },
        "id": "k20_AjnDwy9o",
        "outputId": "056afe44-8bd8-44c7-dc68-09146b3d8149"
      },
      "execution_count": null,
      "outputs": [
        {
          "output_type": "display_data",
          "data": {
            "text/plain": [
              "<Figure size 432x288 with 1 Axes>"
            ],
            "image/png": "[encoded data removed]"
          },
          "metadata": {
            "needs_background": "light"
          }
        }
      ]
    },
    {
      "cell_type": "markdown",
      "source": [
        "***"
      ],
      "metadata": {
        "id": "c3x7yLWiPS4_"
      }
    },
    {
      "cell_type": "markdown",
      "source": [
        "Job well done, everyone 😃"
      ],
      "metadata": {
        "id": "F2AuKw_bPVw8"
      }
    }
  ]
}