{
  "nbformat": 4,
  "nbformat_minor": 0,
  "metadata": {
    "colab": {
      "name": "Session21_Pascal.ipynb",
      "provenance": [],
      "collapsed_sections": [],
      "authorship_tag": "ABX9TyO8mk0iTmpZRw6l/sGb2bbE",
      "include_colab_link": true
    },
    "kernelspec": {
      "name": "python3",
      "display_name": "Python 3"
    },
    "language_info": {
      "name": "python"
    }
  },
  "cells": [
    {
      "cell_type": "markdown",
      "metadata": {
        "id": "view-in-github",
        "colab_type": "text"
      },
      "source": [
        "<a href=\"https://colab.research.google.com/github/greenty5/ict2022_fluidDynamics/blob/main/Session21_Pascal.ipynb\" target=\"_parent\"><img src=\"https://colab.research.google.com/assets/colab-badge.svg\" alt=\"Open In Colab\"/></a>"
      ]
    },
    {
      "cell_type": "markdown",
      "source": [
        "# Fluid Dynamics with Python (ICT Summer School 2022)\n",
        "## Section 2.1.1 Pascal's principle\n",
        "***\n",
        "\n",
        "![](https://i.imgur.com/2MLamCA.jpg)\n",
        "\n",
        "In the hydraulic system shown in the figure, please estimate the force applied to the piston B. \n",
        "The force applied to Piston A is 0.4 kN. Diameters of Piston A and B are 14 mm and 42 mm,  respectively.\n"
      ],
      "metadata": {
        "id": "zSuKCotMl4nz"
      }
    },
    {
      "cell_type": "code",
      "source": [
        "import numpy as np"
      ],
      "metadata": {
        "id": "twqD2T8Dm7za"
      },
      "execution_count": null,
      "outputs": []
    },
    {
      "cell_type": "code",
      "source": [
        "# diameters \n",
        "da = 14e-3 # [m]\n",
        "db = 42e-3 # [m]"
      ],
      "metadata": {
        "id": "FtiwaGW7mxBU"
      },
      "execution_count": null,
      "outputs": []
    },
    {
      "cell_type": "markdown",
      "source": [
        "Let us calculate areas of Piston A and Piston B."
      ],
      "metadata": {
        "id": "PyeOq3MYptHN"
      }
    },
    {
      "cell_type": "code",
      "source": [
        "areaA = 3.1415*da**2/4\n",
        "areaB = 3.1415*db**2/4"
      ],
      "metadata": {
        "id": "SSxZpY3_m9dM"
      },
      "execution_count": null,
      "outputs": []
    },
    {
      "cell_type": "code",
      "source": [
        "F1 = 0.4e3 #[N]\n",
        "F2 = "
      ],
      "metadata": {
        "id": "kMp3fS61nHJA",
        "colab": {
          "base_uri": "https://localhost:8080/",
          "height": 133
        },
        "outputId": "f5fef778-54a5-4f10-8a2e-319a1a270336"
      },
      "execution_count": 1,
      "outputs": [
        {
          "output_type": "error",
          "ename": "SyntaxError",
          "evalue": "ignored",
          "traceback": [
            "\u001b[0;36m  File \u001b[0;32m\"<ipython-input-1-63087433355a>\"\u001b[0;36m, line \u001b[0;32m2\u001b[0m\n\u001b[0;31m    F2 =\u001b[0m\n\u001b[0m         ^\u001b[0m\n\u001b[0;31mSyntaxError\u001b[0m\u001b[0;31m:\u001b[0m invalid syntax\n"
          ]
        }
      ]
    },
    {
      "cell_type": "code",
      "source": [
        "print(\"F2 is ...{}\".format(F2))"
      ],
      "metadata": {
        "colab": {
          "base_uri": "https://localhost:8080/"
        },
        "id": "K_nZNFhNnRZa",
        "outputId": "30833a91-70ff-4d60-b2f1-5ef1f2414c2a"
      },
      "execution_count": null,
      "outputs": [
        {
          "output_type": "stream",
          "name": "stdout",
          "text": [
            "F2 is ...3600.0\n"
          ]
        }
      ]
    },
    {
      "cell_type": "code",
      "source": [
        ""
      ],
      "metadata": {
        "id": "adO90wnPnYic"
      },
      "execution_count": null,
      "outputs": []
    }
  ]
}