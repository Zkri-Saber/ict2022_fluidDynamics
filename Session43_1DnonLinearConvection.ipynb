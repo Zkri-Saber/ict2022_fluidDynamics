{
  "cells": [
    {
      "cell_type": "markdown",
      "metadata": {
        "id": "view-in-github",
        "colab_type": "text"
      },
      "source": [
        "<a href=\"https://colab.research.google.com/github/greenty5/ict2022_fluidDynamics/blob/main/Session43_1DnonLinearConvection.ipynb\" target=\"_parent\"><img src=\"https://colab.research.google.com/assets/colab-badge.svg\" alt=\"Open In Colab\"/></a>"
      ]
    },
    {
      "cell_type": "markdown",
      "metadata": {
        "id": "FxlgsutGvpBZ"
      },
      "source": [
        "Fluid Dynamics with Python (ICT Summer School 2022)\n",
        "Section 4.3 1-D Non-Linear Convection\n",
        "=====\n",
        "***"
      ]
    },
    {
      "cell_type": "markdown",
      "metadata": {
        "id": "72akdYYvvpBZ"
      },
      "source": [
        "This Jupyter notebook continues the presentation of the **Fluid Dynamics with Python**. You should have completed previous one before continuing. Let us write your own Python script or notebook and having experimented with varying the parameters of the discretization and observing what happens.\n"
      ]
    },
    {
      "cell_type": "markdown",
      "metadata": {
        "id": "6FxnG1sCvpBa"
      },
      "source": [
        "Nonlinear Convection\n",
        "-----\n",
        "***"
      ]
    },
    {
      "cell_type": "markdown",
      "metadata": {
        "id": "WAaA2hJBvpBa"
      },
      "source": [
        "Now we're going to implement nonlinear convection using the same methods as in step 1.  The 1D convection equation is:\n",
        "\n",
        "$$\\frac{\\partial u}{\\partial t} + u \\frac{\\partial u}{\\partial x} = 0$$\n",
        "\n",
        "Instead of a constant factor $c$ multiplying the second term, now we have the solution $u$ multiplying it. Thus, the second term of the equation is now *nonlinear*. We're going to use the same discretization as in the previous session — <font color=\"orange\">_forward_ difference in time</font> and <font color=\"orange\">_backward_ difference in space</font>. \n",
        "\n",
        "Here is the discretized equation.\n",
        "\n",
        "$$\\frac{u_i^{n+1}-u_i^n}{...} + \\cdots$$\n",
        "\n",
        "Solving for the only unknown term, $u_i^{n+1}$, yields:\n",
        "\n",
        "$$u_i^{n+1} = \\cdots$$"
      ]
    },
    {
      "cell_type": "markdown",
      "metadata": {
        "id": "NYy7_gBuvpBa"
      },
      "source": [
        "As before, the Python code starts by loading the necessary libraries. Then, we declare some variables that determine the discretization in space and time (you should experiment by changing these parameters to see what happens). Then, we create the initial condition $u_0$ by initializing the array for the solution using $u = 2\\ @\\ 0.5 \\leq x \\leq 1$  and $u = 1$ everywhere else in $(0,2)$ (i.e., a hat function)."
      ]
    },
    {
      "cell_type": "code",
      "execution_count": null,
      "metadata": {
        "collapsed": true,
        "id": "DWdOeq_wvpBb"
      },
      "outputs": [],
      "source": [
        "import numpy as np                 # we're importing numpy \n",
        "from matplotlib import pyplot as plt    # and our 2D plotting library\n",
        "%matplotlib inline\n",
        "\n",
        "\n",
        "nx = 41\n",
        "dx = 2 / (nx - 1)\n",
        "nt = 20    #nt is the number of timesteps we want to calculate\n",
        "dt = .025  #dt is the amount of time each timestep covers (delta t)\n",
        "\n",
        "u = np.ones(nx)      #as before, we initialize u with every value equal to 1.\n",
        "#then set u = 2 between 0.5 and 1 as per our I.C.s\n",
        "\n",
        "un = np.ones(nx) #initialize our placeholder array un, to hold the time-stepped solution"
      ]
    },
    {
      "cell_type": "code",
      "source": [
        "plt.plot(np.linspace(0,2,nx),u)"
      ],
      "metadata": {
        "colab": {
          "base_uri": "https://localhost:8080/",
          "height": 283
        },
        "id": "i1KBAWwBrpr9",
        "outputId": "c3262dd1-bdfb-4365-f7d3-fe4d3b30095e"
      },
      "execution_count": null,
      "outputs": [
        {
          "output_type": "execute_result",
          "data": {
            "text/plain": [
              "[<matplotlib.lines.Line2D at 0x7f52053a4490>]"
            ]
          },
          "metadata": {},
          "execution_count": 2
        },
        {
          "output_type": "display_data",
          "data": {
            "text/plain": [
              "<Figure size 432x288 with 1 Axes>"
            ],
            "image/png": "[encoded data removed]"
          },
          "metadata": {
            "needs_background": "light"
          }
        }
      ]
    },
    {
      "cell_type": "markdown",
      "metadata": {
        "id": "_FdhUOi5vpBc"
      },
      "source": [
        "The code snippet below is *unfinished*. We have copied over the line from [Step 1](./01_Step_1.ipynb) that executes the time-stepping update. Can you edit this code to execute the nonlinear convection instead?"
      ]
    },
    {
      "cell_type": "code",
      "execution_count": null,
      "metadata": {
        "id": "RhaLaVCDvpBc",
        "colab": {
          "base_uri": "https://localhost:8080/",
          "height": 282
        },
        "outputId": "5cd0cb34-6513-4345-b595-796388cde865"
      },
      "outputs": [
        {
          "output_type": "execute_result",
          "data": {
            "text/plain": [
              "[<matplotlib.lines.Line2D at 0x7f51b8269a10>]"
            ]
          },
          "metadata": {},
          "execution_count": 3
        },
        {
          "output_type": "display_data",
          "data": {
            "text/plain": [
              "<Figure size 432x288 with 1 Axes>"
            ],
            "image/png": "[encoded data removed]"
          },
          "metadata": {
            "needs_background": "light"
          }
        }
      ],
      "source": [
        "# Calculaiton u distribution\n",
        "\n",
        "\n",
        "\n",
        "\n",
        "\n",
        "        \n",
        "plt.plot(np.linspace(0, 2, nx), u) ##Plot the results"
      ]
    },
    {
      "cell_type": "markdown",
      "metadata": {
        "id": "iI4uqAAxvpBd"
      },
      "source": [
        "What do you observe about the evolution of the hat function under the nonlinear convection equation? What happens when you change the numerical parameters and run again?"
      ]
    },
    {
      "cell_type": "markdown",
      "metadata": {
        "id": "Q0EJUo3EvpBd"
      },
      "source": [
        "## Learn More"
      ]
    },
    {
      "cell_type": "code",
      "execution_count": null,
      "metadata": {
        "id": "6aXdSc91vpBd",
        "outputId": "2436d913-4c9d-4857-b9a0-978536b820ce"
      },
      "outputs": [
        {
          "data": {
            "image/jpeg": "[encoded data removed]",
            "text/html": [
              "\n",
              "        <iframe\n",
              "            width=\"400\"\n",
              "            height=\"300\"\n",
              "            src=\"https://www.youtube.com/embed/y2WaK7_iMRI\"\n",
              "            frameborder=\"0\"\n",
              "            allowfullscreen\n",
              "        ></iframe>\n",
              "        "
            ],
            "text/plain": [
              "<IPython.lib.display.YouTubeVideo at 0x7f994c6c0ac8>"
            ]
          },
          "execution_count": 2,
          "metadata": {},
          "output_type": "execute_result"
        }
      ],
      "source": [
        "from IPython.display import YouTubeVideo\n",
        "YouTubeVideo('y2WaK7_iMRI')"
      ]
    }
  ],
  "metadata": {
    "kernelspec": {
      "display_name": "Python 3",
      "language": "python",
      "name": "python3"
    },
    "language_info": {
      "codemirror_mode": {
        "name": "ipython",
        "version": 3
      },
      "file_extension": ".py",
      "mimetype": "text/x-python",
      "name": "python",
      "nbconvert_exporter": "python",
      "pygments_lexer": "ipython3",
      "version": "3.5.2"
    },
    "colab": {
      "name": "Session43_1DnonLinearConvection.ipynb",
      "provenance": [],
      "collapsed_sections": [],
      "include_colab_link": true
    }
  },
  "nbformat": 4,
  "nbformat_minor": 0
}