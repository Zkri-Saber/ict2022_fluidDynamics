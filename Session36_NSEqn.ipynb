{
  "cells": [
    {
      "cell_type": "markdown",
      "metadata": {
        "id": "view-in-github",
        "colab_type": "text"
      },
      "source": [
        "<a href=\"https://colab.research.google.com/github/greenty5/ict2022_fluidDynamics/blob/main/Session36_NSEqn.ipynb\" target=\"_parent\"><img src=\"https://colab.research.google.com/assets/colab-badge.svg\" alt=\"Open In Colab\"/></a>"
      ]
    },
    {
      "cell_type": "markdown",
      "metadata": {
        "id": "2chZPwDCCJnw"
      },
      "source": [
        "Fluid Dynamics with Python (ICT Summer School 2022)\n",
        "Section 3.6 Navier-Stokes Equation\n",
        "=====\n",
        "***"
      ]
    },
    {
      "cell_type": "markdown",
      "metadata": {
        "id": "vsrPmI-fCJnw"
      },
      "source": [
        "Hello everyone! Welcome to the **Fluid Dynamics with Python** in ICT Summer School 2022. \n",
        "\n",
        "In this session, we will learn what governing equations of fluid flow are and how to derive these equations."
      ]
    },
    {
      "cell_type": "markdown",
      "source": [
        "***"
      ],
      "metadata": {
        "id": "sn2NgYK01BLf"
      }
    },
    {
      "cell_type": "markdown",
      "source": [
        "\n",
        "The vector form of the governing equations of imcompressible fluid flow are ...\n",
        "\n",
        "$$\\nabla \\cdot \\vec{v} = 0$$\n",
        "\n",
        "$$\\frac{\\partial \\vec{v}}{\\partial t}+(\\vec{v}\\cdot\\nabla)\\vec{v}=-\\frac{1}{\\rho}\\nabla p + \\nu \\nabla^2\\vec{v}$$\n",
        "\n",
        "First equation represents mass conservation law (we call this continuity equation), and second one describes conservation of momentum (we call this __Navier-Stokes equation__).\n",
        "\n",
        "And the general forms of the two-dimensional governing equations are ...\n",
        "\n",
        "$$\\frac{\\partial u}{\\partial t}+u\\frac{\\partial u}{\\partial x}+v\\frac{\\partial u}{\\partial y} = -\\frac{1}{\\rho}\\frac{\\partial p}{\\partial x}+\\nu \\left(\\frac{\\partial^2 u}{\\partial x^2}+\\frac{\\partial^2 u}{\\partial y^2} \\right) $$\n",
        "\n",
        "\n",
        "$$\\frac{\\partial v}{\\partial t}+u\\frac{\\partial v}{\\partial x}+v\\frac{\\partial v}{\\partial y} = -\\frac{1}{\\rho}\\frac{\\partial p}{\\partial y}+\\nu\\left(\\frac{\\partial^2 v}{\\partial x^2}+\\frac{\\partial^2 v}{\\partial y^2}\\right) $$\n",
        "\n",
        "and continuity equation is ...\n",
        "\n",
        "$$ \\frac{\\partial u}{\\partial x} + \\frac{\\partial v}{\\partial y} = 0$$\n",
        "\n",
        "Please note that the continuity equation is not used in the calculation processes of the Navier-Stokes equation directly but is used to derive another equation for numerical calculations (Pressure-Poisson equation, we will learn this later)."
      ],
      "metadata": {
        "id": "BHLHbebcmmfp"
      }
    },
    {
      "cell_type": "markdown",
      "source": [
        "Here we should pay attention to the relation between pressure and velocity in fluid flow, and the other parameters (like $\\nu$, kinetic viscosity) express the physical properties of the fluid medium. "
      ],
      "metadata": {
        "id": "_I5dieUF3BEi"
      }
    },
    {
      "cell_type": "markdown",
      "source": [
        "**In other words, fluid motion (fluid flow) is determined by the flow velocity and pressure conditions.**"
      ],
      "metadata": {
        "id": "tY1KTwig3lSn"
      }
    },
    {
      "cell_type": "markdown",
      "source": [
        "In the following sessions, we will learn how to solve these equations using python programming step by step.\n",
        "\n",
        "Even though you don't have any knowledge about algebra or partial differential equations, you don't need to worry about it. We will learn them little by little. \n",
        "\n",
        "Let's get started !! 😃"
      ],
      "metadata": {
        "id": "6UOt5KgS2_tL"
      }
    },
    {
      "cell_type": "markdown",
      "source": [
        "***"
      ],
      "metadata": {
        "id": "VFwk_llVXUu2"
      }
    }
  ],
  "metadata": {
    "kernelspec": {
      "display_name": "Python 3",
      "language": "python",
      "name": "python3"
    },
    "language_info": {
      "codemirror_mode": {
        "name": "ipython",
        "version": 3
      },
      "file_extension": ".py",
      "mimetype": "text/x-python",
      "name": "python",
      "nbconvert_exporter": "python",
      "pygments_lexer": "ipython3",
      "version": "3.5.2"
    },
    "colab": {
      "name": "Session36_NSEqn.ipynb",
      "provenance": [],
      "collapsed_sections": [],
      "include_colab_link": true
    }
  },
  "nbformat": 4,
  "nbformat_minor": 0
}