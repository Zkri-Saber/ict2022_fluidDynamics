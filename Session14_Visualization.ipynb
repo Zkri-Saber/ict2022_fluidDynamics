{
  "nbformat": 4,
  "nbformat_minor": 0,
  "metadata": {
    "colab": {
      "name": "Session14_Visualization.ipynb",
      "provenance": [],
      "collapsed_sections": [],
      "authorship_tag": "ABX9TyNjNzOdNyraCK48qp74Kmtc",
      "include_colab_link": true
    },
    "kernelspec": {
      "name": "python3",
      "display_name": "Python 3"
    },
    "language_info": {
      "name": "python"
    }
  },
  "cells": [
    {
      "cell_type": "markdown",
      "metadata": {
        "id": "view-in-github",
        "colab_type": "text"
      },
      "source": [
        "<a href=\"https://colab.research.google.com/github/greenty5/ict2022_fluidDynamics/blob/main/Session14_Visualization.ipynb\" target=\"_parent\"><img src=\"https://colab.research.google.com/assets/colab-badge.svg\" alt=\"Open In Colab\"/></a>"
      ]
    },
    {
      "cell_type": "markdown",
      "source": [
        "## Fluid Dynamics with Python (ICT Summer School 2022)\n",
        "### Chapter 1.4 Visualization by matplotlib\n",
        "\n",
        "---\n",
        "\n",
        "Welcome back to the course _Fluid Dynamics with Python_ 😀"
      ],
      "metadata": {
        "id": "8AOmqGvHr2Wf"
      }
    },
    {
      "cell_type": "markdown",
      "source": [
        "In this ipynb file, let us learn how to build python codes and how to use google colabratory."
      ],
      "metadata": {
        "id": "hWKK-esYsJQO"
      }
    },
    {
      "cell_type": "markdown",
      "source": [
        "First of all, we have to import python laibraries which are really important in this course."
      ],
      "metadata": {
        "id": "hhMWz8GPsUqc"
      }
    },
    {
      "cell_type": "code",
      "source": [
        "import numpy as np # fundamental package for scientific computing\n",
        "import matplotlib.pyplot as plt # visualization package"
      ],
      "metadata": {
        "id": "4AYhYtsrsdDv"
      },
      "execution_count": null,
      "outputs": []
    },
    {
      "cell_type": "markdown",
      "source": [
        "Here, let us try to make a graph taht indicates sine curve. \n",
        "\n",
        "Firstly, let us make two variables for the sine curve."
      ],
      "metadata": {
        "id": "5JqxZ7YFthBv"
      }
    },
    {
      "cell_type": "code",
      "source": [
        "x = np.linspace(0, 2*3.1415, 100)\n",
        "y = np.sin(x)"
      ],
      "metadata": {
        "id": "lZ5KNCqUtnXQ"
      },
      "execution_count": null,
      "outputs": []
    },
    {
      "cell_type": "markdown",
      "source": [
        "Now we can make a graph using `plot` function as shown in below:"
      ],
      "metadata": {
        "id": "IxFlbCWoNr7f"
      }
    },
    {
      "cell_type": "code",
      "source": [
        ""
      ],
      "metadata": {
        "colab": {
          "base_uri": "https://localhost:8080/",
          "height": 283
        },
        "id": "QXX_M-7mt6KI",
        "outputId": "279140b2-2951-4557-bc07-ea794d27737a"
      },
      "execution_count": null,
      "outputs": [
        {
          "output_type": "execute_result",
          "data": {
            "text/plain": [
              "[<matplotlib.lines.Line2D at 0x7f488cd28a90>]"
            ]
          },
          "metadata": {},
          "execution_count": 4
        },
        {
          "output_type": "display_data",
          "data": {
            "text/plain": [
              "<Figure size 432x288 with 1 Axes>"
            ],
            "image/png": "[encoded data removed]"
          },
          "metadata": {
            "needs_background": "light"
          }
        }
      ]
    },
    {
      "cell_type": "markdown",
      "source": [
        "Next, let us make a scatter graph;"
      ],
      "metadata": {
        "id": "1bypeSkq1Y3g"
      }
    },
    {
      "cell_type": "code",
      "source": [
        "np.random.seed(2022)\n",
        "x2 = np.random.uniform(0,100,20)\n",
        "y2 = x2*np.random.uniform(1,2,20)"
      ],
      "metadata": {
        "id": "JFgSg7Ve3PKl"
      },
      "execution_count": null,
      "outputs": []
    },
    {
      "cell_type": "markdown",
      "source": [
        "Checking the variables;"
      ],
      "metadata": {
        "id": "_7DPghr01mR0"
      }
    },
    {
      "cell_type": "code",
      "source": [
        ""
      ],
      "metadata": {
        "colab": {
          "base_uri": "https://localhost:8080/"
        },
        "id": "Tyx7X2t91loy",
        "outputId": "fff167e7-1355-46e4-c542-577a2a8ad977"
      },
      "execution_count": null,
      "outputs": [
        {
          "output_type": "execute_result",
          "data": {
            "text/plain": [
              "array([ 0.93586138, 49.90578109, 11.33836899,  4.99740182, 68.54075942,\n",
              "       48.69880682, 89.76572264, 64.74520707, 89.69631228, 72.11349292,\n",
              "       83.13534208, 82.75680688, 83.35795841, 95.70443357, 36.8044437 ,\n",
              "       49.48376299, 33.95094746, 61.94293262, 97.75296384,  9.64330776])"
            ]
          },
          "metadata": {},
          "execution_count": 9
        }
      ]
    },
    {
      "cell_type": "markdown",
      "source": [
        "Making a scatter plot;"
      ],
      "metadata": {
        "id": "Kz9u4_6w1o-1"
      }
    },
    {
      "cell_type": "code",
      "source": [
        ""
      ],
      "metadata": {
        "colab": {
          "base_uri": "https://localhost:8080/",
          "height": 287
        },
        "id": "4YAwQZh91S7z",
        "outputId": "0705419b-d063-4bd2-af0a-c09bedbc6d4b"
      },
      "execution_count": null,
      "outputs": [
        {
          "output_type": "execute_result",
          "data": {
            "text/plain": [
              "<matplotlib.collections.PathCollection at 0x7f488c324150>"
            ]
          },
          "metadata": {},
          "execution_count": 10
        },
        {
          "output_type": "display_data",
          "data": {
            "text/plain": [
              "<Figure size 432x288 with 1 Axes>"
            ],
            "image/png": "[encoded data removed]"
          },
          "metadata": {
            "needs_background": "light"
          }
        }
      ]
    },
    {
      "cell_type": "markdown",
      "source": [
        "---\n",
        "Now over to you.\n",
        "Please make your own variables and make some various kinds of graphs here."
      ],
      "metadata": {
        "id": "XHs8qThK1-QN"
      }
    },
    {
      "cell_type": "code",
      "source": [
        ""
      ],
      "metadata": {
        "id": "MAm86Fsr2JCI"
      },
      "execution_count": null,
      "outputs": []
    },
    {
      "cell_type": "markdown",
      "source": [
        "---\n",
        "That's all for this session. Job well done 😀"
      ],
      "metadata": {
        "id": "uqA2ZvV7cCRV"
      }
    }
  ]
}