{
  "cells": [
    {
      "cell_type": "markdown",
      "metadata": {
        "id": "view-in-github",
        "colab_type": "text"
      },
      "source": [
        "<a href=\"https://colab.research.google.com/github/greenty5/ict2022_fluidDynamics/blob/main/Session42_1DLinearConvection_Implicit.ipynb\" target=\"_parent\"><img src=\"https://colab.research.google.com/assets/colab-badge.svg\" alt=\"Open In Colab\"/></a>"
      ]
    },
    {
      "cell_type": "markdown",
      "metadata": {
        "id": "2chZPwDCCJnw"
      },
      "source": [
        "Fluid Dynamics with Python (ICT Summer School 2022)\n",
        "Section 4.2 1-D Linear Convection (Implicit approach)\n",
        "=====\n",
        "***"
      ]
    },
    {
      "cell_type": "markdown",
      "metadata": {
        "id": "vsrPmI-fCJnw"
      },
      "source": [
        "Welcome back to the **Fluid Dynamics with Python** in ICT Summer School 2022. \n",
        "\n",
        "In this session, we will learn 1-D linear convection equation (a part of the governing equations of fluid flow) by using python.\n"
      ]
    },
    {
      "cell_type": "markdown",
      "source": [
        "***"
      ],
      "metadata": {
        "id": "iIz2unYuX_-8"
      }
    },
    {
      "cell_type": "markdown",
      "source": [
        "\n",
        "The vector form of the governing equation of fluid flow is ...\n",
        "\n",
        "$$\\frac{\\partial \\vec{v}}{\\partial t}+(\\vec{v}\\cdot\\nabla)\\vec{v}=-\\frac{1}{\\rho}\\nabla p + \\nu \\nabla^2\\vec{v}$$\n",
        "\n",
        "and the general forms of the governing equations are ...\n",
        "\n",
        "$$\\frac{\\partial u}{\\partial t}+u\\frac{\\partial u}{\\partial x}+v\\frac{\\partial u}{\\partial y} = -\\frac{1}{\\rho}\\frac{\\partial p}{\\partial x}+\\nu \\left(\\frac{\\partial^2 u}{\\partial x^2}+\\frac{\\partial^2 u}{\\partial y^2} \\right) $$\n",
        "\n",
        "\n",
        "$$\\frac{\\partial v}{\\partial t}+u\\frac{\\partial v}{\\partial x}+v\\frac{\\partial v}{\\partial y} = -\\frac{1}{\\rho}\\frac{\\partial p}{\\partial y}+\\nu\\left(\\frac{\\partial^2 v}{\\partial x^2}+\\frac{\\partial^2 v}{\\partial y^2}\\right) $$\n",
        "\n",
        "and pressure equation is ...\n",
        "\n",
        "$$\\frac{\\partial^2 p}{\\partial x^2}+\\frac{\\partial^2 p}{\\partial y^2} = -\\rho\\left(\\frac{\\partial u}{\\partial x}\\frac{\\partial u}{\\partial x}+2\\frac{\\partial u}{\\partial y}\\frac{\\partial v}{\\partial x}+\\frac{\\partial v}{\\partial y}\\frac{\\partial v}{\\partial y} \\right)$$\n",
        "\n",
        "Do you find the meaning of these equation?\n",
        "\n",
        "If not, don't warry 😀\n",
        "In the following sessions, we will learn how to solve these equation by using python programing step by step.\n",
        "\n",
        "Let's get started !! 🔥"
      ],
      "metadata": {
        "id": "BHLHbebcmmfp"
      }
    },
    {
      "cell_type": "markdown",
      "metadata": {
        "id": "doDDWVQeCJnx"
      },
      "source": [
        "Step 1: 1-D Linear Convection Solution using Implicit Approach\n",
        "-----\n",
        "***"
      ]
    },
    {
      "cell_type": "markdown",
      "metadata": {
        "id": "zrZfeq5OCJnx"
      },
      "source": [
        "The 1-D Linear Convection equation is the simplest, the most basic model that can be used to learn something about CFD. It is surprising that this little equation can teach us so much! Here it is:\n",
        "\n",
        "$$\\frac{\\partial u}{\\partial t} + c \\frac{\\partial u}{\\partial x} = 0$$\n",
        "\n",
        "With given initial conditions (understood as a *wave*), the equation represents the propagation of that initial *wave* with speed $c$, without change of shape. Let the initial condition be $u(x,0)=u_0(x)$. Then the exact solution of the equation is $u(x,t)=u_0(x-ct)$."
      ]
    },
    {
      "cell_type": "markdown",
      "source": [
        "![](https://i.imgur.com/yZe8SdV.png)"
      ],
      "metadata": {
        "id": "0hZBHkCWZIoT"
      }
    },
    {
      "cell_type": "markdown",
      "source": [
        "\n",
        "We discretize this equation in both space and time, using the Forward Difference scheme for the time derivative and the Backward Difference scheme for the space derivative. Consider discretizing the spatial coordinate $x$ into points that we index from $i=0$ to $N$, and stepping in discrete time intervals of size $\\Delta t$.\n",
        "\n",
        "From the definition of a derivative (and simply removing the limit), we know that:\n",
        "\n",
        "$$\\frac{\\partial u}{\\partial x}\\approx \\frac{u(x+\\Delta x)-u(x)}{\\Delta x}$$"
      ],
      "metadata": {
        "id": "Yaww60ZwZLZ2"
      }
    },
    {
      "cell_type": "markdown",
      "source": [
        "![](https://i.imgur.com/o5kdbnr.png)"
      ],
      "metadata": {
        "id": "Wo0J-UlCuT3s"
      }
    },
    {
      "cell_type": "markdown",
      "source": [
        "Now let us apply discretization approach to both time and spacial direction. Our discrete equation, then, is:\n",
        "\n",
        "$$\\frac{u_i^{n+1} - u_i^n}{\\Delta t} + c \\frac{u_i^{n+1} - u_{i-1}^{n+1}}{\\Delta x} = 0$$\n",
        "\n",
        "Where $n$ and $n+1$ are two consecutive steps in time, while $i-1$ and $i$ are two neighboring points of the discretized $x$ coordinate. In this case, we used future velocity $u_i^{n+1}$ and $u_{i-1}^{n+1}$ to express the spatial differential term in the right-hand side. \n",
        "Then we can obtain a following equation;\n",
        "\n",
        "$$\\therefore u_i^{n+1} = u_i^n - c \\frac{\\Delta t}{\\Delta x} ( u_i^{n+1} - u_{i-1}^{n+1})$$\n",
        "\n",
        "According this equation, <font color='red'>future velocity $u_i^{n+1}$ is calculated by using both future/neighbouring data, $u^{n+1}_{i-1}$, and the current data, $u_i^{n}$</font>. \n",
        "\n",
        "#### <font color='red'>We call this approach __IMPLICIT__</font>.\n",
        "\n",
        "As we studied in the previous session, We can directly get future velocity data from the EXPLICIT equation. On the other hand, since future/neighboring velocities are unknown, we can't obtain the future velocity directly in the implicit approach.\n",
        "Namely, we need to calculate the equation mentioned above <font color='red'>__ITERATIVELY__</font>. \n",
        "\n",
        "\n",
        "\n",
        "We'll start by importing a few libraries to help us out.\n",
        "\n",
        "* `numpy` is a library that provides a bunch of useful matrix operations akin to MATLAB\n",
        "* `matplotlib` is a 2D plotting library that we will use to plot our results\n",
        "* `time` and `sys` provide basic timing functions that we'll use to slow down animations for viewing"
      ],
      "metadata": {
        "id": "Vpzewc1puS7t"
      }
    },
    {
      "cell_type": "code",
      "execution_count": null,
      "metadata": {
        "id": "WLR_XhnkCJny"
      },
      "outputs": [],
      "source": [
        "# Remember: comments in python are denoted by the pound sign\n",
        "import numpy as np                       #here we load numpy\n",
        "from matplotlib import pyplot as plt      #here we load matplotlib\n",
        "import time, sys                   #and load some utilities\n"
      ]
    },
    {
      "cell_type": "code",
      "execution_count": null,
      "metadata": {
        "id": "mIxH4o2LCJnz"
      },
      "outputs": [],
      "source": [
        "#this makes matplotlib plots appear in the notebook (instead of a separate window)\n",
        "%matplotlib inline                  "
      ]
    },
    {
      "cell_type": "markdown",
      "metadata": {
        "id": "kbtEBWZyCJnz"
      },
      "source": [
        "Now let's define a few variables; we want to define an evenly spaced grid of points within a spatial domain that is 2 units of length wide, i.e., $x_i\\in(0,2)$.  We'll define a variable `nx`, which will be the number of grid points we want and `dx` will be the distance between any pair of adjacent grid points.  "
      ]
    },
    {
      "cell_type": "code",
      "execution_count": null,
      "metadata": {
        "id": "pW2cMLC5CJn0"
      },
      "outputs": [],
      "source": [
        "nx = 41  # try changing this number from 41 to 81 and Run All ... what happens?\n",
        "dx = 2 / (nx-1) # length is set 2m\n",
        "nt = 25    #nt is the number of timesteps we want to calculate\n",
        "dt = .025  #dt is the amount of time each timestep covers (delta t)\n",
        "c = 1      #assume wavespeed of c = 1"
      ]
    },
    {
      "cell_type": "markdown",
      "metadata": {
        "id": "zzKcNYAjCJn0"
      },
      "source": [
        "We also need to set up our initial conditions. The initial velocity $u_0$ is given as \n",
        "$u = 2$ in the interval $0.5 \\leq x \\leq 1$  and $u = 1$ everywhere else in $(0,2)$ (i.e., a hat function).\n",
        "\n",
        "Here, we use the function `ones()` defining a `numpy` array which is `nx` elements long with every value equal to 1."
      ]
    },
    {
      "cell_type": "code",
      "execution_count": null,
      "metadata": {
        "colab": {
          "base_uri": "https://localhost:8080/"
        },
        "id": "J-zVfPM0CJn0",
        "outputId": "42db561b-0492-4782-8ebf-5b1b166dc606"
      },
      "outputs": [
        {
          "output_type": "stream",
          "name": "stdout",
          "text": [
            "[1. 1. 1. 1. 1. 1. 1. 1. 1. 1. 2. 2. 2. 2. 2. 2. 2. 2. 2. 2. 2. 1. 1. 1.\n",
            " 1. 1. 1. 1. 1. 1. 1. 1. 1. 1. 1. 1. 1. 1. 1. 1. 1.]\n"
          ]
        }
      ],
      "source": [
        "u = np.ones(nx)      #numpy function ones()\n",
        "u[int(.5 / dx):int(1 / dx + 1)] = 2  #setting u = 2 between 0.5 and 1 as per our I.C.s\n",
        "print(u)"
      ]
    },
    {
      "cell_type": "markdown",
      "metadata": {
        "id": "LjmG7VMCCJn1"
      },
      "source": [
        "Now let's take a look at those initial conditions using a Matplotlib plot.  We've imported the `matplotlib` plotting library `pyplot` and the plotting function is called `plot`, so we'll call `pyplot.plot` or `plt.plot`. To learn about the myriad possibilities of Matplotlib, explore the [Gallery](http://matplotlib.org/gallery.html) of example plots.\n",
        "\n",
        "Here, we use the syntax for a simple 2D plot: `plot(x,y)`, where the `x` values are evenly distributed grid points:"
      ]
    },
    {
      "cell_type": "code",
      "execution_count": null,
      "metadata": {
        "colab": {
          "base_uri": "https://localhost:8080/",
          "height": 265
        },
        "id": "hlJwPWX-CJn1",
        "outputId": "15c82ff4-7747-4082-e968-295f8e13174f"
      },
      "outputs": [
        {
          "output_type": "display_data",
          "data": {
            "text/plain": [
              "<Figure size 432x288 with 1 Axes>"
            ],
            "image/png": "[encoded data removed]"
          },
          "metadata": {
            "needs_background": "light"
          }
        }
      ],
      "source": [
        "plt.plot(np.linspace(0, 2, nx), u);"
      ]
    },
    {
      "cell_type": "markdown",
      "metadata": {
        "id": "xJz7mIcGCJn2"
      },
      "source": [
        "Now it's time to implement the discretization of the convection equation using a finite-difference scheme.  \n",
        "\n",
        "For every element of our array `u`, we need to perform the operation $u_i^{n+1} = u_i^n - c \\frac{\\Delta t}{\\Delta x}(u_i^n-u_{i-1}^n)$\n",
        "\n",
        "We'll store the result in a new (temporary) array `un`, which will be the solution $u$ for the next time-step.  We will repeat this operation for as many time-steps as we specify and then we can see how far the wave has convected.  \n",
        "\n",
        "We first initialize our placeholder array `un` to hold the values we calculate for the $n+1$ timestep, using once again the NumPy function `ones()`.\n",
        "\n",
        "Then, we may think we have two iterative operations: one in space and one in time (we'll learn differently later), so we'll start by nesting one loop inside the other. Note the use of the nifty `range()` function. When we write: `for i in range(1,nx)` we will iterate through the `u` array, but we'll be skipping the first element (the zero-th element).  *Why?*"
      ]
    },
    {
      "cell_type": "code",
      "execution_count": null,
      "metadata": {
        "id": "SyZ54WWmCJn2"
      },
      "outputs": [],
      "source": [
        "un = np.ones(nx) #initialize a temporary array\n",
        "\n",
        "for n in range(nt):  #loop for values of n from 0 to nt, so it will run nt times\n",
        "    un = u.copy() ##copy the existing values of u into un\n",
        "    ## iteration loop\n",
        "      ## x-loop \n",
        "        ## calculation"
      ]
    },
    {
      "cell_type": "markdown",
      "metadata": {
        "id": "Qx_IMzZtCJn2"
      },
      "source": [
        "Now let's try plotting our `u` array after advancing in time."
      ]
    },
    {
      "cell_type": "code",
      "execution_count": null,
      "metadata": {
        "colab": {
          "base_uri": "https://localhost:8080/",
          "height": 265
        },
        "id": "Y7jseRZJCJn2",
        "outputId": "8740d0cd-e06a-498c-a2de-6bd268557637"
      },
      "outputs": [
        {
          "output_type": "display_data",
          "data": {
            "text/plain": [
              "<Figure size 432x288 with 1 Axes>"
            ],
            "image/png": "[encoded data removed]"
          },
          "metadata": {
            "needs_background": "light"
          }
        }
      ],
      "source": [
        "plt.plot(np.linspace(0, 2, nx), u);"
      ]
    },
    {
      "cell_type": "markdown",
      "metadata": {
        "id": "pJadFHroCJn2"
      },
      "source": [
        "OK! So our hat function has definitely moved to the right, but it's no longer a hat again, eventhough we used implicit approach.  **What's going on?** Why doesn't the hat function have perfectly straight sides? Think for a bit. \n",
        "\n",
        "We will consider the reason why the shape of the hat function does not keep the time elapsed in the following sessions."
      ]
    },
    {
      "cell_type": "markdown",
      "source": [
        "---\n",
        "\n",
        "Good job, everyone 😀"
      ],
      "metadata": {
        "id": "tNtZFBvLxRFc"
      }
    }
  ],
  "metadata": {
    "kernelspec": {
      "display_name": "Python 3",
      "language": "python",
      "name": "python3"
    },
    "language_info": {
      "codemirror_mode": {
        "name": "ipython",
        "version": 3
      },
      "file_extension": ".py",
      "mimetype": "text/x-python",
      "name": "python",
      "nbconvert_exporter": "python",
      "pygments_lexer": "ipython3",
      "version": "3.5.2"
    },
    "colab": {
      "name": "Session42_1DLinearConvection_Implicit.ipynb",
      "provenance": [],
      "collapsed_sections": [],
      "include_colab_link": true
    }
  },
  "nbformat": 4,
  "nbformat_minor": 0
}