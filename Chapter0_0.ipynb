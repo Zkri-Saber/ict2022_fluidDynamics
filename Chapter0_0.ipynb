{
  "nbformat": 4,
  "nbformat_minor": 0,
  "metadata": {
    "colab": {
      "name": "Chapter0_0.ipynb",
      "provenance": [],
      "authorship_tag": "ABX9TyNv2ErEwiIFF2/ffanNQANI",
      "include_colab_link": true
    },
    "kernelspec": {
      "name": "python3",
      "display_name": "Python 3"
    },
    "language_info": {
      "name": "python"
    }
  },
  "cells": [
    {
      "cell_type": "markdown",
      "metadata": {
        "id": "view-in-github",
        "colab_type": "text"
      },
      "source": [
        "<a href=\"https://colab.research.google.com/github/greenty5/ict2022_fluidDynamics/blob/main/Chapter0_0.ipynb\" target=\"_parent\"><img src=\"https://colab.research.google.com/assets/colab-badge.svg\" alt=\"Open In Colab\"/></a>"
      ]
    },
    {
      "cell_type": "markdown",
      "source": [
        "## Fluid Dynamics with Python (ICT Summer School 2022)\n",
        "### Chapter 0.0"
      ],
      "metadata": {
        "id": "8AOmqGvHr2Wf"
      }
    },
    {
      "cell_type": "markdown",
      "source": [
        "In this ipynb file, let us learn how to build python codes and how to use google colabratory."
      ],
      "metadata": {
        "id": "hWKK-esYsJQO"
      }
    },
    {
      "cell_type": "markdown",
      "source": [
        "First of all, we have to import python laibraries which are really important in this course."
      ],
      "metadata": {
        "id": "hhMWz8GPsUqc"
      }
    },
    {
      "cell_type": "code",
      "source": [
        "import numpy as np # fundamental package for scientific computing\n",
        "import matplotlib.pyplot as plt # visualization package"
      ],
      "metadata": {
        "id": "4AYhYtsrsdDv"
      },
      "execution_count": null,
      "outputs": []
    },
    {
      "cell_type": "markdown",
      "source": [
        "Here, let us try to do matrix calculations as shown in below;"
      ],
      "metadata": {
        "id": "5JqxZ7YFthBv"
      }
    },
    {
      "cell_type": "code",
      "source": [
        "a = np.array([1,2,3])\n",
        "b = np.array([3,4,5])\n",
        "\n",
        "c = a + b\n",
        "d = a - c\n",
        "\n",
        "print(\"c = \", c)\n",
        "print(\"d = \", d)"
      ],
      "metadata": {
        "colab": {
          "base_uri": "https://localhost:8080/"
        },
        "id": "lZ5KNCqUtnXQ",
        "outputId": "320b9791-7758-48af-c897-ae16b2bd943b"
      },
      "execution_count": null,
      "outputs": [
        {
          "output_type": "stream",
          "name": "stdout",
          "text": [
            "c =  [4 6 8]\n",
            "d =  [-3 -4 -5]\n"
          ]
        }
      ]
    },
    {
      "cell_type": "markdown",
      "source": [
        "and inner product is "
      ],
      "metadata": {
        "id": "Igg54wnTXwHz"
      }
    },
    {
      "cell_type": "code",
      "source": [
        "e = np.dot(a,b)\n",
        "print(\"matrix a dot b = \", e)"
      ],
      "metadata": {
        "colab": {
          "base_uri": "https://localhost:8080/"
        },
        "id": "QXX_M-7mt6KI",
        "outputId": "0ce9c546-791a-4fb5-95f6-b545a18fa5e7"
      },
      "execution_count": null,
      "outputs": [
        {
          "output_type": "stream",
          "name": "stdout",
          "text": [
            "matrix a dot b =  26\n"
          ]
        }
      ]
    },
    {
      "cell_type": "code",
      "source": [
        ""
      ],
      "metadata": {
        "id": "yAdPgJOauCzd"
      },
      "execution_count": null,
      "outputs": []
    }
  ]
}