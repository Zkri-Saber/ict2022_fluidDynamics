{
  "cells": [
    {
      "cell_type": "markdown",
      "metadata": {
        "id": "view-in-github",
        "colab_type": "text"
      },
      "source": [
        "<a href=\"https://colab.research.google.com/github/greenty5/ict2022_fluidDynamics/blob/main/Session37_PressurePossonEqn.ipynb\" target=\"_parent\"><img src=\"https://colab.research.google.com/assets/colab-badge.svg\" alt=\"Open In Colab\"/></a>"
      ]
    },
    {
      "cell_type": "markdown",
      "metadata": {
        "id": "2chZPwDCCJnw"
      },
      "source": [
        "Fluid Dynamics with Python (ICT Summer School 2022)\n",
        "Section 3.7 Pressure Poisson Equation\n",
        "=====\n",
        "***"
      ]
    },
    {
      "cell_type": "markdown",
      "metadata": {
        "id": "vsrPmI-fCJnw"
      },
      "source": [
        "Hello everyone! Welcome to the **Fluid Dynamics with Python** in ICT Summer School 2022. \n",
        "\n",
        "In this session, we will learn what pressure-poisson equation of fluid flow is and how to derive this equation."
      ]
    },
    {
      "cell_type": "markdown",
      "source": [
        "\n",
        "The vector form of the governing equations of fluid flow are ...\n",
        "\n",
        "$$\\nabla \\cdot \\vec{v} = 0$$\n",
        "\n",
        "$$\\frac{\\partial \\vec{v}}{\\partial t}+(\\vec{v}\\cdot\\nabla)\\vec{v}=-\\frac{1}{\\rho}\\nabla p + \\nu \\nabla^2\\vec{v}$$\n",
        "\n",
        "First equation represents mass conservation law (we call this continuous equation), and second one describes conservation of momentum (we call this __Navier-Stokes equation__).\n",
        "\n",
        "And the general forms of the governing equations are ...\n",
        "\n",
        "$$\\frac{\\partial u}{\\partial t}+u\\frac{\\partial u}{\\partial x}+v\\frac{\\partial u}{\\partial y} = -\\frac{1}{\\rho}\\frac{\\partial p}{\\partial x}+\\nu \\left(\\frac{\\partial^2 u}{\\partial x^2}+\\frac{\\partial^2 u}{\\partial y^2} \\right) $$\n",
        "\n",
        "\n",
        "$$\\frac{\\partial v}{\\partial t}+u\\frac{\\partial v}{\\partial x}+v\\frac{\\partial v}{\\partial y} = -\\frac{1}{\\rho}\\frac{\\partial p}{\\partial y}+\\nu\\left(\\frac{\\partial^2 v}{\\partial x^2}+\\frac{\\partial^2 v}{\\partial y^2}\\right) $$\n",
        "\n",
        "and pressure equation (pressure poisson equation) is ...\n",
        "\n",
        "$$\\frac{\\partial^2 p}{\\partial x^2}+\\frac{\\partial^2 p}{\\partial y^2} = -\\rho\\left(\\frac{\\partial u}{\\partial x}\\frac{\\partial u}{\\partial x}+2\\frac{\\partial u}{\\partial y}\\frac{\\partial v}{\\partial x}+\\frac{\\partial v}{\\partial y}\\frac{\\partial v}{\\partial y} \\right)$$\n",
        "\n",
        "In the following sessions, we will learn how to solve these equations using python programming step by step.\n",
        "\n",
        "Even though you don't have any knowledge about algebra or partial differential equations, you don't need to worry about it. We will learn them little by little. \n",
        "\n",
        "Let's get started !! 😃"
      ],
      "metadata": {
        "id": "BHLHbebcmmfp"
      }
    },
    {
      "cell_type": "markdown",
      "source": [
        "***"
      ],
      "metadata": {
        "id": "VFwk_llVXUu2"
      }
    },
    {
      "cell_type": "markdown",
      "source": [
        "## Derivation of Pressure poisson equation from the Navier-Stokes equation."
      ],
      "metadata": {
        "id": "27-CyRwSXoem"
      }
    },
    {
      "cell_type": "markdown",
      "source": [
        "Navier-Stokes equation and continuity equation in incompressible flow are looked something like these;\n",
        "\n",
        "$$\\nabla \\cdot \\vec{v} = 0$$\n",
        "\n",
        "$$\\frac{\\partial \\vec{v}}{\\partial t}+(\\vec{v}\\cdot\\nabla)\\vec{v}=-\\frac{1}{\\rho}\\nabla p + \\nu \\nabla^2\\vec{v}$$"
      ],
      "metadata": {
        "id": "du8zzHdfXUdH"
      }
    },
    {
      "cell_type": "markdown",
      "source": [
        "Here, we want to combine these two equations. Combining the equations into a single equation would be easier than if we were solving a simultaneous equation by substitution.\n",
        "Still, as you can see, these equations do not fit such the combination and substitution.\n",
        "\n",
        "So, now we have the continuity equation $\\nabla \\cdot \\vec{v} = 0$. This equation might be better approach to calculate divergence ($\\nabla \\cdot$) of each term in N-S equation."
      ],
      "metadata": {
        "id": "rscXw7UIYVOB"
      }
    },
    {
      "cell_type": "markdown",
      "source": [
        "$$\\nabla \\cdot \\frac{\\partial \\vec{v}}{\\partial t}+\\nabla \\cdot ((\\vec{v}\\cdot\\nabla)\\vec{v})=-\\frac{1}{\\rho} \\nabla \\cdot \\nabla p + \\nu \\nabla \\cdot (\\nabla^2\\vec{v})$$"
      ],
      "metadata": {
        "id": "hbtmlDLMiPBV"
      }
    },
    {
      "cell_type": "markdown",
      "source": [
        "Let us focus on the first term on the left-hand side, then we can find rewrite this term like\n",
        "\n",
        "$$\\nabla \\cdot \\frac{\\partial \\vec{v}}{\\partial t} = \\frac{\\partial (\\nabla \\cdot \\vec{v})}{\\partial t}$$"
      ],
      "metadata": {
        "id": "pAMpVrAPjg0a"
      }
    },
    {
      "cell_type": "markdown",
      "source": [
        "Next, let us focus on the first term on the right-hand side.\n",
        "\n",
        "$$- \\frac{1}{\\rho} \\nabla \\cdot (\\nabla p) = \\frac{1}{\\rho} \\nabla^2 p$$"
      ],
      "metadata": {
        "id": "fNaTFugJkTVm"
      }
    },
    {
      "cell_type": "markdown",
      "source": [
        "The second term on the right-hand side is expressed as a third derivative of $\\vec{v}$ ...\n",
        "\n",
        "$$\\nu \\nabla \\cdot (\\nabla^2 \\vec{v}) = \\nu \\nabla \\cdot ( \\nabla \\cdot \\nabla \\vec{v}) \\sim 0$$\n",
        "\n",
        "the scale of this term should be smaller than the others."
      ],
      "metadata": {
        "id": "udfgf0UQkucc"
      }
    },
    {
      "cell_type": "markdown",
      "source": [
        "Applying divergence to the Navier-Stokes equation is ...\n",
        "\n",
        "$$\\frac{\\partial ( \\nabla \\cdot \\vec{v})}{\\partial t} + \\nabla \\cdot ((\\vec{v}\\cdot \\nabla)\\vec{v}) = -\\frac{1}{\\rho} \\nabla^2 p $$\n",
        "\n",
        "here, $\\nabla \\cdot \\vec{v} = 0$ from the continuity equation, we can calculate like ...\n",
        "\n",
        "$$\\frac{1}{\\rho} \\nabla ^2 p = -\\nabla \\cdot ((\\vec{v}\\cdot \\nabla)\\vec{v})$$"
      ],
      "metadata": {
        "id": "_to5SIi4mG-Y"
      }
    },
    {
      "cell_type": "markdown",
      "source": [
        "Calculating the nabla $\\nabla$ in the right-hand side,\n",
        "\n",
        "$$\\nabla \\cdot ((\\vec{v}\\cdot \\nabla)\\vec{v}) = \\nabla \\cdot \\left( v_x \\frac{\\partial \\vec{v}}{\\partial x} + v_y \\frac{\\partial \\vec{v}}{\\partial y} \\right)$$\n",
        "\n",
        "$$= \\frac{\\partial}{\\partial x} \\left( v_x \\frac{\\partial v_x}{\\partial x} + v_y \\frac{\\partial v_x}{\\partial y} \\right) + \\frac{\\partial}{\\partial y} \\left( v_x \\frac{\\partial v_y}{\\partial x} + v_y \\frac{\\partial v_y}{\\partial y} \\right)$$"
      ],
      "metadata": {
        "id": "n6s_4W3CmBIo"
      }
    },
    {
      "cell_type": "markdown",
      "source": [
        "According to differential fomula ($(fg)'=f'g + f g'$), the therm is ...\n",
        "\n",
        "$$= \\left( \\frac{\\partial v_x}{\\partial x} \\right)^2 + v_x \\frac{\\partial^2 v_x}{\\partial x^2} + \\frac{\\partial v_y}{\\partial x} \\frac{\\partial v_x}{\\partial y} + v_y \\frac{\\partial^2 v_x}{\\partial x \\partial y} + \\frac{\\partial v_x}{\\partial y} \\frac{\\partial v_y}{\\partial x} + v_x \\frac{\\partial^2 v_y}{\\partial x \\partial y} + \\left( \\frac{\\partial v_y}{\\partial y} \\right) ^2 + v_y \\frac{\\partial^2 v_y}{\\partial y^2}$$\n",
        "\n",
        "$$\\cdots$$\n",
        "\n",
        "$$= \\left( \\frac{\\partial v_x}{\\partial x} \\right)^2 + \\left( \\frac{\\partial v_y}{\\partial y} \\right)^2 + 2 \\frac{\\partial v_x}{\\partial y} \\frac{\\partial v_y}{\\partial x}$$"
      ],
      "metadata": {
        "id": "gZkgZFMbo6Ya"
      }
    },
    {
      "cell_type": "markdown",
      "source": [
        "Now we obtain the term \"$\\nabla \\cdot ((\\vec{v} \\cdot \\nabla) \\vec{v} )$\". Finally, we can obtain pressure-poisson equation as shown in below;\n",
        "\n",
        "$$\\frac{1}{\\rho} \\nabla^2 p = - \\left[ \\left( \\frac{\\partial v_x}{\\partial x} \\right)^2 + \\left( \\frac{\\partial v_y}{\\partial y} \\right)^2 + 2 \\frac{\\partial v_x}{\\partial y} \\frac{\\partial v_y}{\\partial x} \\right] $$\n",
        "\n",
        "or \n",
        "\n",
        "$$\\frac{\\partial^2 p}{\\partial x^2}+\\frac{\\partial^2 p}{\\partial y^2} = -\\rho\\left(\\frac{\\partial u}{\\partial x}\\frac{\\partial u}{\\partial x}+2\\frac{\\partial u}{\\partial y}\\frac{\\partial v}{\\partial x}+\\frac{\\partial v}{\\partial y}\\frac{\\partial v}{\\partial y} \\right)$$\n",
        "\n",
        "That's it !! 😃"
      ],
      "metadata": {
        "id": "1APWciTMwbJn"
      }
    }
  ],
  "metadata": {
    "kernelspec": {
      "display_name": "Python 3",
      "language": "python",
      "name": "python3"
    },
    "language_info": {
      "codemirror_mode": {
        "name": "ipython",
        "version": 3
      },
      "file_extension": ".py",
      "mimetype": "text/x-python",
      "name": "python",
      "nbconvert_exporter": "python",
      "pygments_lexer": "ipython3",
      "version": "3.5.2"
    },
    "colab": {
      "name": "Session37_PressurePossonEqn.ipynb",
      "provenance": [],
      "collapsed_sections": [],
      "include_colab_link": true
    }
  },
  "nbformat": 4,
  "nbformat_minor": 0
}