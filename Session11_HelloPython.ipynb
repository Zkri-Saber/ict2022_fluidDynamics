{
  "nbformat": 4,
  "nbformat_minor": 0,
  "metadata": {
    "colab": {
      "name": "Session11_HelloPython.ipynb",
      "provenance": [],
      "collapsed_sections": [],
      "authorship_tag": "ABX9TyP/ZyYOodLGIv00ypRreukT",
      "include_colab_link": true
    },
    "kernelspec": {
      "name": "python3",
      "display_name": "Python 3"
    },
    "language_info": {
      "name": "python"
    }
  },
  "cells": [
    {
      "cell_type": "markdown",
      "metadata": {
        "id": "view-in-github",
        "colab_type": "text"
      },
      "source": [
        "<a href=\"https://colab.research.google.com/github/greenty5/ict2022_fluidDynamics/blob/main/Session11_HelloPython.ipynb\" target=\"_parent\"><img src=\"https://colab.research.google.com/assets/colab-badge.svg\" alt=\"Open In Colab\"/></a>"
      ]
    },
    {
      "cell_type": "markdown",
      "source": [
        "# Fluid Dynamics with Python (ICT Summer School 2022)\n",
        "## Section 1.1 Welcome to Python world !!\n",
        "***"
      ],
      "metadata": {
        "id": "8AOmqGvHr2Wf"
      }
    },
    {
      "cell_type": "markdown",
      "source": [
        "Konnichiwa! and Hello! This is a quick intro to programming in Python to help you hit the ground running with _Fluid Dynamics with Python_ in ICT Summer School 2022.\n",
        "\n",
        "There are two ways to enjoy these lessons with Python:\n",
        "\n",
        "You can run Python in the cloud using _[Google Colaboratory](https://colab.research.google.com/)_, for which you need to create a free account. (No software installation required! (__strongly recommended on this course__)).\n",
        "\n",
        "You can download and install a Python distribution on your computer. One of options is the free _[Anaconda](https://www.anaconda.com/products/distribution)_ Scientific Python distribution. \n",
        "\n",
        "\n",
        "You will get a new browser window or tab with a list of the notebooks available in that folder. Click on one and start working!\n",
        "\n",
        "In this ipynb file, let us learn how to build python codes and how to use google colabratory."
      ],
      "metadata": {
        "id": "hWKK-esYsJQO"
      }
    },
    {
      "cell_type": "markdown",
      "source": [
        "First of all, we have to import python laibraries which are really important in this course."
      ],
      "metadata": {
        "id": "hhMWz8GPsUqc"
      }
    },
    {
      "cell_type": "code",
      "source": [
        "import numpy as np # fundamental package for scientific computing\n",
        "import matplotlib.pyplot as plt # visualization package"
      ],
      "metadata": {
        "id": "4AYhYtsrsdDv"
      },
      "execution_count": null,
      "outputs": []
    },
    {
      "cell_type": "markdown",
      "source": [
        "Here, let us try to do matrix calculations as shown in below;"
      ],
      "metadata": {
        "id": "5JqxZ7YFthBv"
      }
    },
    {
      "cell_type": "code",
      "source": [
        "a = np.array([1,2,3])\n",
        "b = np.array([3,4,5])\n"
      ],
      "metadata": {
        "colab": {
          "base_uri": "https://localhost:8080/",
          "height": 187
        },
        "id": "lZ5KNCqUtnXQ",
        "outputId": "5df19e83-245e-4189-c795-7d03cb175815"
      },
      "execution_count": 1,
      "outputs": [
        {
          "output_type": "error",
          "ename": "NameError",
          "evalue": "ignored",
          "traceback": [
            "\u001b[0;31m---------------------------------------------------------------------------\u001b[0m",
            "\u001b[0;31mNameError\u001b[0m                                 Traceback (most recent call last)",
            "\u001b[0;32m<ipython-input-1-cdf69d33158d>\u001b[0m in \u001b[0;36m<module>\u001b[0;34m()\u001b[0m\n\u001b[0;32m----> 1\u001b[0;31m \u001b[0ma\u001b[0m \u001b[0;34m=\u001b[0m \u001b[0mnp\u001b[0m\u001b[0;34m.\u001b[0m\u001b[0marray\u001b[0m\u001b[0;34m(\u001b[0m\u001b[0;34m[\u001b[0m\u001b[0;36m1\u001b[0m\u001b[0;34m,\u001b[0m\u001b[0;36m2\u001b[0m\u001b[0;34m,\u001b[0m\u001b[0;36m3\u001b[0m\u001b[0;34m]\u001b[0m\u001b[0;34m)\u001b[0m\u001b[0;34m\u001b[0m\u001b[0;34m\u001b[0m\u001b[0m\n\u001b[0m\u001b[1;32m      2\u001b[0m \u001b[0mb\u001b[0m \u001b[0;34m=\u001b[0m \u001b[0mnp\u001b[0m\u001b[0;34m.\u001b[0m\u001b[0marray\u001b[0m\u001b[0;34m(\u001b[0m\u001b[0;34m[\u001b[0m\u001b[0;36m3\u001b[0m\u001b[0;34m,\u001b[0m\u001b[0;36m4\u001b[0m\u001b[0;34m,\u001b[0m\u001b[0;36m5\u001b[0m\u001b[0;34m]\u001b[0m\u001b[0;34m)\u001b[0m\u001b[0;34m\u001b[0m\u001b[0;34m\u001b[0m\u001b[0m\n",
            "\u001b[0;31mNameError\u001b[0m: name 'np' is not defined"
          ]
        }
      ]
    },
    {
      "cell_type": "markdown",
      "source": [
        "and we can calculate inner product as follow: "
      ],
      "metadata": {
        "id": "Igg54wnTXwHz"
      }
    },
    {
      "cell_type": "code",
      "source": [
        ""
      ],
      "metadata": {
        "colab": {
          "base_uri": "https://localhost:8080/"
        },
        "id": "QXX_M-7mt6KI",
        "outputId": "0ce9c546-791a-4fb5-95f6-b545a18fa5e7"
      },
      "execution_count": null,
      "outputs": [
        {
          "output_type": "stream",
          "name": "stdout",
          "text": [
            "matrix a dot b =  26\n"
          ]
        }
      ]
    },
    {
      "cell_type": "markdown",
      "source": [
        "This is the first step of Python. Next section, we will learn how to built Python program in detail.\n",
        "\n",
        "Good job, everyone 😀"
      ],
      "metadata": {
        "id": "gKmityhPm4hD"
      }
    }
  ]
}