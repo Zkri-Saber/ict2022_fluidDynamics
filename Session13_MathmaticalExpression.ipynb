{
  "cells": [
    {
      "cell_type": "markdown",
      "metadata": {
        "colab_type": "text",
        "id": "view-in-github"
      },
      "source": [
        "<a href=\"https://colab.research.google.com/github/greenty5/ict2022_fluidDynamics/blob/main/Session13_MathmaticalExpression.ipynb\" target=\"_parent\"><img src=\"https://colab.research.google.com/assets/colab-badge.svg\" alt=\"Open In Colab\"/></a>"
      ]
    },
    {
      "cell_type": "markdown",
      "metadata": {
        "id": "8AOmqGvHr2Wf"
      },
      "source": [
        "# Fluid Dynamics with Python (ICT Summer School 2022)\n",
        "## Section 1.3 Mathmatical expressions in JupyterLab\n",
        "***"
      ]
    },
    {
      "cell_type": "markdown",
      "metadata": {
        "id": "hWKK-esYsJQO"
      },
      "source": [
        "Konnichiwa! and Hello! This is a quick intro to programming in Python to help you hit the ground running with _Fluid Dynamics with Python_ in ICT Summer School 2022.\n",
        "\n",
        "In this ipynb file, let us learn how to express mathmatical expressions in jupyterLab and google Colaboratory."
      ]
    },
    {
      "cell_type": "markdown",
      "metadata": {
        "id": "bblYR1gqpKjZ"
      },
      "source": [
        "***"
      ]
    },
    {
      "cell_type": "markdown",
      "metadata": {
        "id": "hhMWz8GPsUqc"
      },
      "source": [
        "In this section, let us lean how to write math equations on the notebook."
      ]
    },
    {
      "cell_type": "markdown",
      "metadata": {
        "id": "H6VtsFZmpX8-"
      },
      "source": [
        "when we write math equations on the notebook, we can use `$` and `$$` delimiters natively in Markdown/notebook to insert math expressions in TeX and LaTeX sytle syntax. \n",
        "\n",
        "For example, the following Markdown,\n",
        "\n",
        "```\n",
        "When $a \\ne 0$, there are two solutions to $(ax^2 + bx + c = 0)$ and they are \n",
        "$$ x = {-b \\pm \\sqrt{b^2-4ac} \\over 2a} $$\n",
        "```\n",
        "\n",
        "will render as:\n",
        "\n",
        "When $a \\ne 0$, there are two solutions to $(ax^2 + bx + c = 0)$ and they are \n",
        "\n",
        "$$ x = {-b \\pm \\sqrt{b^2-4ac} \\over 2a} $$"
      ]
    },
    {
      "cell_type": "markdown",
      "metadata": {
        "id": "Igg54wnTXwHz"
      },
      "source": [
        "Let us try to write following partial differential equations on this notebook;\n",
        "\n",
        "![](https://i.imgur.com/dLqRm31.jpeg)"
      ]
    },
    {
      "cell_type": "markdown",
      "metadata": {
        "id": "TeYoPy78rBM7"
      },
      "source": [
        "(please write the equasions here using math expressions)"
      ]
    },
    {
      "cell_type": "markdown",
      "metadata": {
        "id": "-j2R1ZYR0EAC"
      },
      "source": [
        "Actually, the equations mentioned above are governing equations of fluid flow we are going to study in detail in the following sessions."
      ]
    },
    {
      "cell_type": "markdown",
      "metadata": {
        "id": "gKmityhPm4hD"
      },
      "source": [
        "***\n",
        "Good job, everyone 😀"
      ]
    }
  ],
  "metadata": {
    "colab": {
      "authorship_tag": "ABX9TyNfOtvkXW3Tm32ZvdGo3LCG",
      "collapsed_sections": [],
      "include_colab_link": true,
      "name": "Session13_MathmaticalExpression.ipynb",
      "provenance": []
    },
    "kernelspec": {
      "display_name": "Python 3",
      "name": "python3"
    },
    "language_info": {
      "name": "python"
    }
  },
  "nbformat": 4,
  "nbformat_minor": 0
}
