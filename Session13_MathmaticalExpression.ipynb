{
  "nbformat": 4,
  "nbformat_minor": 0,
  "metadata": {
    "colab": {
      "name": "Session13_MathmaticalExpression.ipynb",
      "provenance": [],
      "collapsed_sections": [],
      "authorship_tag": "ABX9TyNfOtvkXW3Tm32ZvdGo3LCG",
      "include_colab_link": true
    },
    "kernelspec": {
      "name": "python3",
      "display_name": "Python 3"
    },
    "language_info": {
      "name": "python"
    }
  },
  "cells": [
    {
      "cell_type": "markdown",
      "metadata": {
        "id": "view-in-github",
        "colab_type": "text"
      },
      "source": [
        "<a href=\"https://colab.research.google.com/github/greenty5/ict2022_fluidDynamics/blob/main/Session13_MathmaticalExpression.ipynb\" target=\"_parent\"><img src=\"https://colab.research.google.com/assets/colab-badge.svg\" alt=\"Open In Colab\"/></a>"
      ]
    },
    {
      "cell_type": "markdown",
      "source": [
        "# Fluid Dynamics with Python (ICT Summer School 2022)\n",
        "## Section 1.3 Mathmatical expressions in JupyterLab\n",
        "***"
      ],
      "metadata": {
        "id": "8AOmqGvHr2Wf"
      }
    },
    {
      "cell_type": "markdown",
      "source": [
        "Konnichiwa! and Hello! This is a quick intro to programming in Python to help you hit the ground running with _Fluid Dynamics with Python_ in ICT Summer School 2022.\n",
        "\n",
        "In this ipynb file, let us learn how to express mathmatical expressions in jupyterLab and google Colaboratory."
      ],
      "metadata": {
        "id": "hWKK-esYsJQO"
      }
    },
    {
      "cell_type": "markdown",
      "source": [
        "***"
      ],
      "metadata": {
        "id": "bblYR1gqpKjZ"
      }
    },
    {
      "cell_type": "markdown",
      "source": [
        "In this section, let us lean how to write math equations on the notebook."
      ],
      "metadata": {
        "id": "hhMWz8GPsUqc"
      }
    },
    {
      "cell_type": "markdown",
      "source": [
        "when we write math equations on the notebook, we can use `$` and `$$` delimiters natively in Markdown/notebook to insert math expressions in TeX and LaTeX sytle syntax. \n",
        "\n",
        "For example, the following Markdown,\n",
        "\n",
        "```\n",
        "When $a \\ne 0$, there are two solutions to $(ax^2 + bx + c = 0)$ and they are \n",
        "$$ x = {-b \\pm \\sqrt{b^2-4ac} \\over 2a} $$\n",
        "```\n",
        "\n",
        "will render as:\n",
        "\n",
        "When $a \\ne 0$, there are two solutions to $(ax^2 + bx + c = 0)$ and they are \n",
        "\n",
        "$$ x = {-b \\pm \\sqrt{b^2-4ac} \\over 2a} $$"
      ],
      "metadata": {
        "id": "H6VtsFZmpX8-"
      }
    },
    {
      "cell_type": "markdown",
      "source": [
        "Let us try to write following partial differential equations on this notebook;\n",
        "\n",
        "![](https://i.imgur.com/dLqRm31.jpeg)"
      ],
      "metadata": {
        "id": "Igg54wnTXwHz"
      }
    },
    {
      "cell_type": "markdown",
      "source": [
        "bra bra bra (please write the equasions here using math expressions)"
      ],
      "metadata": {
        "id": "TeYoPy78rBM7"
      }
    },
    {
      "cell_type": "markdown",
      "source": [
        "Actually, the equations mentioned above are governing equations of fluid flow we are going to study in detail in the following sessions."
      ],
      "metadata": {
        "id": "-j2R1ZYR0EAC"
      }
    },
    {
      "cell_type": "markdown",
      "source": [
        "***\n",
        "Good job, everyone 😀"
      ],
      "metadata": {
        "id": "gKmityhPm4hD"
      }
    }
  ]
}