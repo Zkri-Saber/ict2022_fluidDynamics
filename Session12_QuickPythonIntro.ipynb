{
  "cells": [
    {
      "cell_type": "markdown",
      "metadata": {
        "id": "view-in-github",
        "colab_type": "text"
      },
      "source": [
        "<a href=\"https://colab.research.google.com/github/greenty5/ict2022_fluidDynamics/blob/main/Session12_QuickPythonIntro.ipynb\" target=\"_parent\"><img src=\"https://colab.research.google.com/assets/colab-badge.svg\" alt=\"Open In Colab\"/></a>"
      ]
    },
    {
      "cell_type": "markdown",
      "metadata": {
        "id": "1FKXNLPriTJy"
      },
      "source": [
        "# Fluid Dynamics with Python (ICT Summer School 2022)\n",
        "## Section 1.2 Python Crash Course\n",
        "***\n"
      ]
    },
    {
      "cell_type": "markdown",
      "metadata": {
        "id": "YynAInpmiTJ1"
      },
      "source": [
        "## Libraries"
      ]
    },
    {
      "cell_type": "markdown",
      "metadata": {
        "id": "6VkGNQJ5iTJ2"
      },
      "source": [
        "Python is a high-level open-source language.  But the _Python world_ is inhabited by many packages or libraries that provide useful things like array operations, plotting functions, and much more. We can import libraries of functions to expand the capabilities of Python in our programs.  \n",
        "\n",
        "OK! We'll start by importing a few libraries to help us out. First: our favorite library is **NumPy**, providing a bunch of useful array operations (similar to MATLAB). We will use it a lot! The second library we need is **Matplotlib**, a 2D plotting library which we will use to plot our results.\n",
        "The following code will be at the top of most of your programs, so execute this cell first:"
      ]
    },
    {
      "cell_type": "code",
      "execution_count": null,
      "metadata": {
        "id": "XbTv51z3iTJ2"
      },
      "outputs": [],
      "source": [
        "# <-- comments in python are denoted by the pound sign, like this one\n",
        "\n",
        "# last session, we learned how to load libraries, numpay and matplotlib.pyplot \n",
        "import   # we import the array library\n",
        "import   # import plotting library"
      ]
    },
    {
      "cell_type": "markdown",
      "metadata": {
        "id": "3EmPZzP_iTJ3"
      },
      "source": [
        "We are importing one library named `numpy` and we are importing a module called `pyplot` of a big library called `matplotlib`.\n",
        "\n",
        "To use a function belonging to one of these libraries, we have to tell Python where to look for it. For that, each function name is written following the library name, with a dot in between.\n",
        "So if we want to use the NumPy function [linspace()](http://docs.scipy.org/doc/numpy/reference/generated/numpy.linspace.html), which creates <font color='red'> an array with equally spaced numbers between a start and end</font>, we call it by writing:"
      ]
    },
    {
      "cell_type": "code",
      "execution_count": null,
      "metadata": {
        "id": "CpffIHtNiTJ3",
        "outputId": "f732936f-9278-4c3c-f088-fc1a0d381644"
      },
      "outputs": [
        {
          "data": {
            "text/plain": [
              "array([ 0.        ,  0.55555556,  1.11111111,  1.66666667,  2.22222222,\n",
              "        2.77777778,  3.33333333,  3.88888889,  4.44444444,  5.        ])"
            ]
          },
          "execution_count": 2,
          "metadata": {},
          "output_type": "execute_result"
        }
      ],
      "source": [
        "myarray = # wirte your code here\n",
        "myarray"
      ]
    },
    {
      "cell_type": "markdown",
      "metadata": {
        "id": "gOKL-ihsiTJ4"
      },
      "source": [
        "If we don't preface the `linspace()` function with `np` or `numpy`, Python will throw an error."
      ]
    },
    {
      "cell_type": "code",
      "execution_count": null,
      "metadata": {
        "id": "0XfEWB8PiTJ4",
        "outputId": "f2f69459-b399-4c0a-a0ba-ee70e4e9e5be"
      },
      "outputs": [
        {
          "ename": "NameError",
          "evalue": "name 'linspace' is not defined",
          "output_type": "error",
          "traceback": [
            "\u001b[1;31m---------------------------------------------------------------------------\u001b[0m",
            "\u001b[1;31mNameError\u001b[0m                                 Traceback (most recent call last)",
            "\u001b[1;32m<ipython-input-4-ed3ba806937a>\u001b[0m in \u001b[0;36m<module>\u001b[1;34m()\u001b[0m\n\u001b[1;32m----> 1\u001b[1;33m \u001b[0mmyarray\u001b[0m \u001b[1;33m=\u001b[0m \u001b[0mlinspace\u001b[0m\u001b[1;33m(\u001b[0m\u001b[1;36m0\u001b[0m\u001b[1;33m,\u001b[0m \u001b[1;36m5\u001b[0m\u001b[1;33m,\u001b[0m \u001b[1;36m10\u001b[0m\u001b[1;33m)\u001b[0m\u001b[1;33m\u001b[0m\u001b[0m\n\u001b[0m",
            "\u001b[1;31mNameError\u001b[0m: name 'linspace' is not defined"
          ]
        }
      ],
      "source": [
        "myarray = linspace(0, 5, 10)"
      ]
    },
    {
      "cell_type": "markdown",
      "source": [
        "The function `linspace()` is very useful. Try it changing the input parameters!\n"
      ],
      "metadata": {
        "id": "KkeGWWbeSzu5"
      }
    },
    {
      "cell_type": "markdown",
      "source": [
        "---"
      ],
      "metadata": {
        "id": "tIdqCAMSS7ij"
      }
    },
    {
      "cell_type": "markdown",
      "metadata": {
        "id": "KAkX7bFIiTJ5"
      },
      "source": [
        "**Import style:**\n",
        "\n",
        "You will often see code snippets that use the following lines\n",
        "```Python\n",
        "import numpy as np\n",
        "import matplotlib.pyplot as plt\n",
        "```\n",
        "What's all of this import-as business? It's a way of creating a 'shortcut' to the NumPy library and the pyplot module. You will see it frequently as it is in common usage, but we prefer to keep out imports explicit. We think it helps with code readability.\n",
        "\n",
        "**Pro tip:**\n",
        "\n",
        "Sometimes, you'll see people importing a whole library without assigning a shortcut for it (like `from numpy import *`). This saves typing but is sloppy and can get you in trouble. Best to get into good habits from the beginning!\n",
        "\n",
        "\n",
        "To learn new functions available to you, visit the [NumPy Reference](http://docs.scipy.org/doc/numpy/reference/) page. If you are a proficient `Matlab` user, there is a wiki page that should prove helpful to you: [NumPy for Matlab Users](http://wiki.scipy.org/NumPy_for_Matlab_Users)"
      ]
    },
    {
      "cell_type": "markdown",
      "source": [
        "---\n",
        "Now, over to you !!\n",
        "Let us make our own arrays by using `linspace` function."
      ],
      "metadata": {
        "id": "EVYPn0H3u5PI"
      }
    },
    {
      "cell_type": "code",
      "source": [
        ""
      ],
      "metadata": {
        "id": "LHHw4OCIvQHa"
      },
      "execution_count": null,
      "outputs": []
    },
    {
      "cell_type": "markdown",
      "source": [
        "---\n",
        "---"
      ],
      "metadata": {
        "id": "3dNGHY9XvQ1q"
      }
    },
    {
      "cell_type": "markdown",
      "metadata": {
        "id": "h7-NofQIiTJ5"
      },
      "source": [
        "## Variables"
      ]
    },
    {
      "cell_type": "markdown",
      "metadata": {
        "id": "JPcBoK85iTJ5"
      },
      "source": [
        "Python doesn't require explicitly declared variable types like C and other languages.  "
      ]
    },
    {
      "cell_type": "code",
      "execution_count": null,
      "metadata": {
        "id": "LGSkMGliiTJ6"
      },
      "outputs": [],
      "source": [
        "a = 5        #a is an integer 5\n",
        "b = 'five'   #b is a string of the word 'five'\n",
        "c = 5.0      #c is a floating point 5  "
      ]
    },
    {
      "cell_type": "code",
      "execution_count": null,
      "metadata": {
        "id": "7D7t2HRLiTJ6",
        "outputId": "e3370e79-b548-48ac-c981-0efd55acd31e",
        "colab": {
          "base_uri": "https://localhost:8080/"
        }
      },
      "outputs": [
        {
          "output_type": "execute_result",
          "data": {
            "text/plain": [
              "int"
            ]
          },
          "metadata": {},
          "execution_count": 3
        }
      ],
      "source": [
        ""
      ]
    },
    {
      "cell_type": "code",
      "execution_count": null,
      "metadata": {
        "id": "fnpMupxxiTJ6",
        "outputId": "8f83b548-200c-4933-875c-20a4d3139145"
      },
      "outputs": [
        {
          "data": {
            "text/plain": [
              "str"
            ]
          },
          "execution_count": 7,
          "metadata": {},
          "output_type": "execute_result"
        }
      ],
      "source": [
        ""
      ]
    },
    {
      "cell_type": "code",
      "execution_count": null,
      "metadata": {
        "id": "SvSSxYTyiTJ6",
        "outputId": "ca0eb3b2-cdde-4131-8b2d-545e798cc7c3"
      },
      "outputs": [
        {
          "data": {
            "text/plain": [
              "float"
            ]
          },
          "execution_count": 8,
          "metadata": {},
          "output_type": "execute_result"
        }
      ],
      "source": [
        ""
      ]
    },
    {
      "cell_type": "markdown",
      "metadata": {
        "id": "61c0EZ3HiTJ6"
      },
      "source": [
        "Note that if you divide an integer by an integer that yields a remainder, the result will be converted to a float."
      ]
    },
    {
      "cell_type": "markdown",
      "source": [
        "Let us check the integer dividing like ..."
      ],
      "metadata": {
        "id": "fi8ga4QEviXV"
      }
    },
    {
      "cell_type": "code",
      "source": [
        ""
      ],
      "metadata": {
        "colab": {
          "base_uri": "https://localhost:8080/"
        },
        "id": "dvMgbIvyvf0G",
        "outputId": "9c867dc0-cdec-417d-bf1c-830850bcd511"
      },
      "execution_count": null,
      "outputs": [
        {
          "output_type": "execute_result",
          "data": {
            "text/plain": [
              "float"
            ]
          },
          "metadata": {},
          "execution_count": 4
        }
      ]
    },
    {
      "cell_type": "markdown",
      "source": [
        "---\n",
        "---"
      ],
      "metadata": {
        "id": "gYoi1rn9vgo9"
      }
    },
    {
      "cell_type": "markdown",
      "metadata": {
        "id": "j10QBDFpiTJ6"
      },
      "source": [
        "## Indeents and Whitespace in Python"
      ]
    },
    {
      "cell_type": "markdown",
      "metadata": {
        "id": "A89UpqpqiTJ7"
      },
      "source": [
        "Python uses indents and whitespace to group statements together.  To write a short loop in C, you might use:\n",
        "\n",
        "    for (i = 0, i < 5, i++){\n",
        "       printf(\"Hi! \\n\");\n",
        "    }"
      ]
    },
    {
      "cell_type": "markdown",
      "metadata": {
        "id": "XT6BZXZNiTJ7"
      },
      "source": [
        "Python does not use curly braces like C, so the same program as above is written in Python as follows:"
      ]
    },
    {
      "cell_type": "code",
      "execution_count": null,
      "metadata": {
        "id": "1MBmc01RiTJ7",
        "outputId": "eeefc252-fa49-4ab1-cb82-b023b62a9186"
      },
      "outputs": [
        {
          "name": "stdout",
          "output_type": "stream",
          "text": [
            "Hi \n",
            "\n",
            "Hi \n",
            "\n",
            "Hi \n",
            "\n",
            "Hi \n",
            "\n",
            "Hi \n",
            "\n"
          ]
        }
      ],
      "source": [
        "\n"
      ]
    },
    {
      "cell_type": "markdown",
      "metadata": {
        "id": "lrwDEEmYiTJ7"
      },
      "source": [
        "If you have nested for-loops, there is a further indent for the inner loop."
      ]
    },
    {
      "cell_type": "code",
      "execution_count": null,
      "metadata": {
        "id": "EYimpWrdiTJ7",
        "outputId": "7cc0227c-930b-4f0b-be45-1f42ab196c6e"
      },
      "outputs": [
        {
          "name": "stdout",
          "output_type": "stream",
          "text": [
            "0 0\n",
            "0 1\n",
            "0 2\n",
            "This statement is within the i-loop, but not the j-loop\n",
            "1 0\n",
            "1 1\n",
            "1 2\n",
            "This statement is within the i-loop, but not the j-loop\n",
            "2 0\n",
            "2 1\n",
            "2 2\n",
            "This statement is within the i-loop, but not the j-loop\n"
          ]
        }
      ],
      "source": [
        "# pls try to write a nested for-loops (both i-loop and j-loop) here;\n",
        "\n",
        "    print(\"This statement is within the i-loop, but not the j-loop\")"
      ]
    },
    {
      "cell_type": "markdown",
      "source": [
        "---\n",
        "---"
      ],
      "metadata": {
        "id": "wQU41Tt6v8fq"
      }
    },
    {
      "cell_type": "markdown",
      "metadata": {
        "id": "WRJnbGi9iTJ7"
      },
      "source": [
        "## Slicing Arrays"
      ]
    },
    {
      "cell_type": "markdown",
      "metadata": {
        "id": "-18P4DhaiTJ8"
      },
      "source": [
        "In NumPy, you can look at portions of arrays in the same way as in `Matlab`, with a few extra tricks thrown in.  Let's take an array of values from 1 to 5."
      ]
    },
    {
      "cell_type": "code",
      "execution_count": null,
      "metadata": {
        "id": "SxaAtS5kiTJ8",
        "outputId": "1b7b9ce9-3a48-413f-9ec8-ce53f31b51ec"
      },
      "outputs": [
        {
          "data": {
            "text/plain": [
              "array([1, 2, 3, 4, 5])"
            ]
          },
          "execution_count": 11,
          "metadata": {},
          "output_type": "execute_result"
        }
      ],
      "source": [
        "\n",
        "myvals"
      ]
    },
    {
      "cell_type": "markdown",
      "metadata": {
        "id": "E7rRf-dPiTJ8"
      },
      "source": [
        "Python uses a **zero-based index**, so let's look at the first and last element in the array `myvals`"
      ]
    },
    {
      "cell_type": "code",
      "execution_count": null,
      "metadata": {
        "id": "gju5uXNoiTJ8",
        "outputId": "9a3f3a25-0911-4e43-85a8-e9d94faa3df8"
      },
      "outputs": [
        {
          "data": {
            "text/plain": [
              "(1, 5)"
            ]
          },
          "execution_count": 12,
          "metadata": {},
          "output_type": "execute_result"
        }
      ],
      "source": [
        "myvals[0], myvals[4]"
      ]
    },
    {
      "cell_type": "markdown",
      "metadata": {
        "id": "-WNiZfXOiTJ8"
      },
      "source": [
        "There are 5 elements in the array `myvals`, but if we try to look at `myvals[5]`, Python will be unhappy, as `myvals[5]` is actually calling the non-existant 6th element of that array."
      ]
    },
    {
      "cell_type": "code",
      "execution_count": null,
      "metadata": {
        "id": "FLKJM3iRiTJ8",
        "outputId": "b1e6b02c-887e-482a-e2dd-cd63efc9932d"
      },
      "outputs": [
        {
          "ename": "IndexError",
          "evalue": "index 5 is out of bounds for axis 0 with size 5",
          "output_type": "error",
          "traceback": [
            "\u001b[1;31m---------------------------------------------------------------------------\u001b[0m",
            "\u001b[1;31mIndexError\u001b[0m                                Traceback (most recent call last)",
            "\u001b[1;32m<ipython-input-13-6cc4d3ae83cd>\u001b[0m in \u001b[0;36m<module>\u001b[1;34m()\u001b[0m\n\u001b[1;32m----> 1\u001b[1;33m \u001b[0mmyvals\u001b[0m\u001b[1;33m[\u001b[0m\u001b[1;36m5\u001b[0m\u001b[1;33m]\u001b[0m\u001b[1;33m\u001b[0m\u001b[0m\n\u001b[0m",
            "\u001b[1;31mIndexError\u001b[0m: index 5 is out of bounds for axis 0 with size 5"
          ]
        }
      ],
      "source": [
        "# try to look myvals[5] which is out of this variable limit\n"
      ]
    },
    {
      "cell_type": "markdown",
      "metadata": {
        "id": "BzjzysU7iTJ8"
      },
      "source": [
        "Arrays can also be 'sliced', grabbing a range of values.  Let's look at the first three elements"
      ]
    },
    {
      "cell_type": "code",
      "execution_count": null,
      "metadata": {
        "id": "U0iQVxiNiTJ9",
        "outputId": "29eca7f1-5253-48a8-eca2-5a92522f819c"
      },
      "outputs": [
        {
          "data": {
            "text/plain": [
              "array([1, 2, 3])"
            ]
          },
          "execution_count": 14,
          "metadata": {},
          "output_type": "execute_result"
        }
      ],
      "source": [
        "# try to write a line showing the first three elements\n"
      ]
    },
    {
      "cell_type": "markdown",
      "metadata": {
        "id": "FEMxCeXAiTJ9"
      },
      "source": [
        "Note here, the slice is inclusive on the front end and exclusive on the back, so the above command gives us the values of `myvals[0]`, `myvals[1]` and `myvals[2]`, but not `myvals[3]`."
      ]
    },
    {
      "cell_type": "markdown",
      "source": [
        "---\n",
        "---"
      ],
      "metadata": {
        "id": "BmXQEenjwDVo"
      }
    },
    {
      "cell_type": "markdown",
      "metadata": {
        "id": "smqdsifgiTJ9"
      },
      "source": [
        "## Assigning Array Variables"
      ]
    },
    {
      "cell_type": "markdown",
      "metadata": {
        "id": "BwWQZoqTiTJ9"
      },
      "source": [
        "One of the strange little quirks/features in Python that often confuses people comes up when assigning and comparing arrays of values.  Here is a quick example.  Let's start by defining a 1-D array called $a$ using `linspace` function:"
      ]
    },
    {
      "cell_type": "code",
      "execution_count": null,
      "metadata": {
        "id": "4RB9ftSbiTJ9"
      },
      "outputs": [],
      "source": [
        "# write a line defining 1-D array using linspace function"
      ]
    },
    {
      "cell_type": "code",
      "execution_count": null,
      "metadata": {
        "id": "oTYkdUYAiTJ9",
        "outputId": "390021af-30c8-4173-ece7-8c7d865b3bac"
      },
      "outputs": [
        {
          "data": {
            "text/plain": [
              "array([ 1.,  2.,  3.,  4.,  5.])"
            ]
          },
          "execution_count": 16,
          "metadata": {},
          "output_type": "execute_result"
        }
      ],
      "source": [
        "a"
      ]
    },
    {
      "cell_type": "markdown",
      "metadata": {
        "id": "8ummeKM9iTJ9"
      },
      "source": [
        "OK, so we have an array $a$, with the values 1 through 5.  I want to make a copy of that array, called $b$, so I'll try the following:"
      ]
    },
    {
      "cell_type": "code",
      "execution_count": null,
      "metadata": {
        "id": "4_dI_MqpiTJ9"
      },
      "outputs": [],
      "source": [
        "# pls copy \"a\" to \"b\" by using \"=\"\n"
      ]
    },
    {
      "cell_type": "code",
      "execution_count": null,
      "metadata": {
        "id": "fUJgB6etiTJ9",
        "outputId": "9fb76425-bd90-4561-be0a-7eb4b2162b0c"
      },
      "outputs": [
        {
          "data": {
            "text/plain": [
              "array([ 1.,  2.,  3.,  4.,  5.])"
            ]
          },
          "execution_count": 18,
          "metadata": {},
          "output_type": "execute_result"
        }
      ],
      "source": [
        "b"
      ]
    },
    {
      "cell_type": "markdown",
      "metadata": {
        "id": "6QuYb-32iTJ-"
      },
      "source": [
        "Great.  So $a$ has the values 1 through 5 and now so does $b$.  Now that I have a backup of $a$, I can change its values without worrying about losing data (or so I may think!)."
      ]
    },
    {
      "cell_type": "code",
      "execution_count": null,
      "metadata": {
        "id": "9apSa6d6iTJ-"
      },
      "outputs": [],
      "source": [
        "# a[2] = 17"
      ]
    },
    {
      "cell_type": "code",
      "execution_count": null,
      "metadata": {
        "id": "-G-omUlDiTJ-",
        "outputId": "71689445-49e7-406c-c051-69028c474512"
      },
      "outputs": [
        {
          "data": {
            "text/plain": [
              "array([  1.,   2.,  17.,   4.,   5.])"
            ]
          },
          "execution_count": 20,
          "metadata": {},
          "output_type": "execute_result"
        }
      ],
      "source": [
        "a"
      ]
    },
    {
      "cell_type": "markdown",
      "metadata": {
        "id": "g7LQg4DLiTJ-"
      },
      "source": [
        "Here, the 3rd element of $a$ has been changed to 17.  Now let's check on $b$."
      ]
    },
    {
      "cell_type": "code",
      "execution_count": null,
      "metadata": {
        "id": "jCKIWmAGiTJ-"
      },
      "outputs": [],
      "source": [
        ""
      ]
    },
    {
      "cell_type": "markdown",
      "metadata": {
        "id": "KrDhCHiGiTJ-"
      },
      "source": [
        "And that's how things go wrong!  \n",
        "When you use a statement like $a = b$, rather than copying all the values of $a$ into a new array called $b$, Python just creates <font color=\"red\">an alias (or a pointer) </font> called $b$ and tells it to route us to $a$.  So if we change a value in $a$ then $b$ will reflect that change (technically, this is called *assignment by reference*).  \n",
        "If you want to make a true copy of the array, you have to tell Python to copy every element of $a$ into a new array.  Let's call it $c$.  "
      ]
    },
    {
      "cell_type": "code",
      "execution_count": null,
      "metadata": {
        "id": "SKp_K9PUiTJ-"
      },
      "outputs": [],
      "source": [
        ""
      ]
    },
    {
      "cell_type": "markdown",
      "metadata": {
        "id": "sp69RRzfiTJ-"
      },
      "source": [
        "Now, we can try again to change a value in $a$ and see if the changes are also seen in $c$.  "
      ]
    },
    {
      "cell_type": "code",
      "execution_count": null,
      "metadata": {
        "id": "adb2XtqUiTJ_"
      },
      "outputs": [],
      "source": [
        "a[2] = 3"
      ]
    },
    {
      "cell_type": "code",
      "execution_count": null,
      "metadata": {
        "id": "0XhWjeKhiTJ_",
        "outputId": "81adf6b3-b9b9-493a-e193-72ee2ffa8f61"
      },
      "outputs": [
        {
          "data": {
            "text/plain": [
              "array([ 1.,  2.,  3.,  4.,  5.])"
            ]
          },
          "execution_count": 24,
          "metadata": {},
          "output_type": "execute_result"
        }
      ],
      "source": [
        "a"
      ]
    },
    {
      "cell_type": "code",
      "execution_count": null,
      "metadata": {
        "id": "ftumqUP2iTJ_",
        "outputId": "372494e0-d3ae-442a-eca1-4c6ebd051ac4"
      },
      "outputs": [
        {
          "data": {
            "text/plain": [
              "array([  1.,   2.,  17.,   4.,   5.])"
            ]
          },
          "execution_count": 25,
          "metadata": {},
          "output_type": "execute_result"
        }
      ],
      "source": [
        "c"
      ]
    },
    {
      "cell_type": "markdown",
      "metadata": {
        "id": "sfg3nRR9iTJ_"
      },
      "source": [
        "OK, it worked!  If the difference between `a = b` and `a = b.copy()` is unclear, you should read through this again.  This issue will come back to haunt you otherwise."
      ]
    },
    {
      "cell_type": "markdown",
      "source": [
        "---"
      ],
      "metadata": {
        "id": "zDAleMqMUFKs"
      }
    },
    {
      "cell_type": "markdown",
      "source": [
        "Now, over to you !"
      ],
      "metadata": {
        "id": "2JH3BjTnUGSp"
      }
    },
    {
      "cell_type": "markdown",
      "source": [
        "Please make your arrays and copy by using \"=\" and \"copy\" function below;\n"
      ],
      "metadata": {
        "id": "upHjhTRZULcC"
      }
    },
    {
      "cell_type": "code",
      "source": [
        ""
      ],
      "metadata": {
        "id": "JyxPUQ20UXzT"
      },
      "execution_count": null,
      "outputs": []
    },
    {
      "cell_type": "markdown",
      "source": [
        "---"
      ],
      "metadata": {
        "id": "ui3OdCfoUJId"
      }
    },
    {
      "cell_type": "markdown",
      "metadata": {
        "id": "ZnlD4WFpiTJ_"
      },
      "source": [
        "## Learn More"
      ]
    },
    {
      "cell_type": "markdown",
      "metadata": {
        "id": "kYzNir7biTJ_"
      },
      "source": [
        "There are a lot of resources online to learn more about using NumPy and other libraries. Just for kicks, here we use Jupyter's feature for embedding videos to point you to a short video on YouTube on using NumPy arrays."
      ]
    },
    {
      "cell_type": "code",
      "execution_count": null,
      "metadata": {
        "id": "WLuYTNFniTJ_",
        "outputId": "c18933fe-62b6-44fc-c8ce-4936a860afcc"
      },
      "outputs": [
        {
          "data": {
            "text/html": [
              "\n",
              "        <iframe\n",
              "            width=\"400\"\n",
              "            height=\"300\"\n",
              "            src=\"https://www.youtube.com/embed/vWkb7VahaXQ\"\n",
              "            frameborder=\"0\"\n",
              "            allowfullscreen\n",
              "        ></iframe>\n",
              "        "
            ],
            "text/plain": [
              "<IPython.lib.display.YouTubeVideo at 0x7fc862618748>"
            ]
          },
          "execution_count": 26,
          "metadata": {},
          "output_type": "execute_result"
        }
      ],
      "source": [
        "from IPython.display import YouTubeVideo\n",
        "# a short video about using NumPy arrays, from Enthought\n",
        "YouTubeVideo('vWkb7VahaXQ')"
      ]
    }
  ],
  "metadata": {
    "kernelspec": {
      "display_name": "Python 3",
      "language": "python",
      "name": "python3"
    },
    "language_info": {
      "codemirror_mode": {
        "name": "ipython",
        "version": 3
      },
      "file_extension": ".py",
      "mimetype": "text/x-python",
      "name": "python",
      "nbconvert_exporter": "python",
      "pygments_lexer": "ipython3",
      "version": "3.4.3"
    },
    "colab": {
      "name": "Session12_QuickPythonIntro.ipynb",
      "provenance": [],
      "collapsed_sections": [],
      "include_colab_link": true
    }
  },
  "nbformat": 4,
  "nbformat_minor": 0
}