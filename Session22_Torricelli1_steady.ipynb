{
  "nbformat": 4,
  "nbformat_minor": 0,
  "metadata": {
    "colab": {
      "name": "Session23_Torricelli1_steady.ipynb",
      "provenance": [],
      "collapsed_sections": [],
      "authorship_tag": "ABX9TyOhPByvCwf5cgObGazX1Om9",
      "include_colab_link": true
    },
    "kernelspec": {
      "name": "python3",
      "display_name": "Python 3"
    },
    "language_info": {
      "name": "python"
    }
  },
  "cells": [
    {
      "cell_type": "markdown",
      "metadata": {
        "id": "view-in-github",
        "colab_type": "text"
      },
      "source": [
        "<a href=\"https://colab.research.google.com/github/greenty5/ict2022_fluidDynamics/blob/main/Session23_Torricelli1_steady.ipynb\" target=\"_parent\"><img src=\"https://colab.research.google.com/assets/colab-badge.svg\" alt=\"Open In Colab\"/></a>"
      ]
    },
    {
      "cell_type": "markdown",
      "source": [
        "# Fluid Dynamics with Python (ICT Summer School 2022)\n",
        "## Section 2.3.1 Bernoulli's principle (steady)\n",
        "***"
      ],
      "metadata": {
        "id": "8AOmqGvHr2Wf"
      }
    },
    {
      "cell_type": "markdown",
      "source": [
        "\n",
        "![Bernoulli's principle](https://i.imgur.com/aoBkgfj.jpeg)\n"
      ],
      "metadata": {
        "id": "HS9FOm26Kz0u"
      }
    },
    {
      "cell_type": "markdown",
      "source": [
        "In most flows of liquids, and of gases at low Mach number, the density of a fluid parcel can be considered to be constant, regardless of pressure variations in the flow. Therefore, the fluid can be considered to be incompressible and these flows are called incompressible flows. Bernoulli performed his experiments on liquids, so his equation in its original form is valid only for incompressible flow. A common form of Bernoulli's equation, valid at any arbitrary point along a streamline, is:"
      ],
      "metadata": {
        "id": "hWKK-esYsJQO"
      }
    },
    {
      "cell_type": "markdown",
      "source": [
        "$$\\frac{v^2}{2} + gz + \\frac{p}{\\rho} = const.$$"
      ],
      "metadata": {
        "id": "AefLgUhGFACx"
      }
    },
    {
      "cell_type": "markdown",
      "source": [
        "where:\n",
        "- $v$ is the fluid flow speed at a point on a streamline,\n",
        "- $g$ is the acceleration due to gravity,\n",
        "- $z$ is the elevation of the point above a reference plane, with the positive z-direction pointing upward – so in the direction opposite to the gravitational acceleration,\n",
        "- $p$ is the pressure at the chosen point, and\n",
        "- $\\rho$ is the density of the fluid at all points in the fluid.\n",
        "The constant on the right-hand side of the equation depends only on the streamline chosen, whereas $v$, $z$ and $p$ depend on the particular point on that streamline."
      ],
      "metadata": {
        "id": "hhMWz8GPsUqc"
      }
    },
    {
      "cell_type": "markdown",
      "source": [
        "The constant on the right-hand side of the equation depends only on the streamline chosen, whereas v, z and p depend on the particular point on that streamline.\n",
        "\n",
        "The following assumptions must be met for this Bernoulli equation to apply:\n",
        "- the flow must be steady, i.e., the flow parameters (velocity, density, etc...) at any point cannot change with time,\n",
        "- the flow must be incompressible – even though pressure varies, the density must remain constant along a streamline;\n",
        "- friction by viscous forces must be negligible."
      ],
      "metadata": {
        "id": "nxnwunO_Fj4S"
      }
    },
    {
      "cell_type": "markdown",
      "source": [
        "By multiplying with the fluid density $\\rho$, the equation mentioned above can be written as:"
      ],
      "metadata": {
        "id": "J_ZCW1N0F2Tn"
      }
    },
    {
      "cell_type": "markdown",
      "source": [
        "$$\\frac{1}{2} \\rho v^2 + \\rho g z + p = const.$$\n",
        "\n",
        "where\n",
        "- $\\frac{1}{2} \\rho v^2$ is kinetic energy (dynamic pressure),\n",
        "- $\\rho g z$ is the potential energy, and,\n",
        "- $p_0$ is pressure energy"
      ],
      "metadata": {
        "id": "grPukkCjF_A-"
      }
    },
    {
      "cell_type": "markdown",
      "source": [
        "***"
      ],
      "metadata": {
        "id": "XTcMOkkCdg82"
      }
    },
    {
      "cell_type": "markdown",
      "source": [
        "# Practice / Torricelli's principle\n",
        "\n",
        "let us consider following situation; \n",
        "now barrel with a hole at the bottm is filled with water. The water level is 0.2 meters in height from the bottom. Diameters of the barrel and the hole are 0.5 and 0.01 m$^2$, respectively.\n",
        "\n",
        "How much time will be needed by the barrel is empty ?"
      ],
      "metadata": {
        "id": "QNhZJ9PMdk9p"
      }
    },
    {
      "cell_type": "code",
      "source": [
        "import numpy as np\n",
        "import matplotlib.pyplot as plt"
      ],
      "metadata": {
        "id": "CVozEws2fI5u"
      },
      "execution_count": null,
      "outputs": []
    },
    {
      "cell_type": "code",
      "source": [
        "F = 0.5   # cross-sectional area of the barrel\n",
        "f = 0.01 # cross-sectional area of the hole / water leaks out through the hole.\n",
        "gravity = 9.80665\n",
        "H = 0.2  # water level in height from the barrel"
      ],
      "metadata": {
        "id": "3Wd2uSFxfOQR"
      },
      "execution_count": null,
      "outputs": []
    },
    {
      "cell_type": "markdown",
      "source": [
        "\\$$F \\cdot H = \\sqrt{2gH} \\cdot f \\cdot t$$\n",
        "\n",
        "move the left hand side term to the other side, then we obtain ...\n",
        "\n",
        "$$F \\cdot H - \\sqrt{2gH} \\cdot f \\cdot t = 0$$\n"
      ],
      "metadata": {
        "id": "tQY7WQtTTv72"
      }
    },
    {
      "cell_type": "markdown",
      "source": [
        "Now let us make a python function of this equation;"
      ],
      "metadata": {
        "id": "QQRdwtkwYTl2"
      }
    },
    {
      "cell_type": "code",
      "source": [
        "def g(t):\n",
        "  return F*H - np.sqrt(2*gravity*H) * f * t"
      ],
      "metadata": {
        "id": "kPZxq2yGgZMU"
      },
      "execution_count": null,
      "outputs": []
    },
    {
      "cell_type": "markdown",
      "source": [
        "loading scipy library which is for scientific calculation and solving the equation by using Newton method;"
      ],
      "metadata": {
        "id": "GEiqcaa5Yfm9"
      }
    },
    {
      "cell_type": "code",
      "source": [
        "from scipy import optimize # "
      ],
      "metadata": {
        "id": "drjLHgvlfxHt"
      },
      "execution_count": null,
      "outputs": []
    },
    {
      "cell_type": "code",
      "source": [
        "optimize.newton(g, 0)"
      ],
      "metadata": {
        "colab": {
          "base_uri": "https://localhost:8080/"
        },
        "id": "FsR0g016gv52",
        "outputId": "28513acb-565b-4c81-b014-619f07a67aac"
      },
      "execution_count": null,
      "outputs": [
        {
          "output_type": "execute_result",
          "data": {
            "text/plain": [
              "5.049049942756381"
            ]
          },
          "metadata": {},
          "execution_count": 5
        }
      ]
    },
    {
      "cell_type": "markdown",
      "source": [
        "From the result of the calculation here, the barrel will be empty 5.05 second later."
      ],
      "metadata": {
        "id": "U1RF-YK_U3Ms"
      }
    },
    {
      "cell_type": "code",
      "source": [
        "t = np.linspace(0,5.04, 10)"
      ],
      "metadata": {
        "id": "7dlzJRH2VEtf"
      },
      "execution_count": null,
      "outputs": []
    },
    {
      "cell_type": "code",
      "source": [
        "plt.xlabel(\"Elapsed time [s]\")\n",
        "plt.ylabel(\"Volume of water in the barrel [m^3]\")\n",
        "plt.plot(t, g(t))"
      ],
      "metadata": {
        "colab": {
          "base_uri": "https://localhost:8080/",
          "height": 296
        },
        "id": "U0DSEeKpVNVs",
        "outputId": "9275bc14-3b3c-4a8c-aeb4-e9c61ea44bc1"
      },
      "execution_count": null,
      "outputs": [
        {
          "output_type": "execute_result",
          "data": {
            "text/plain": [
              "[<matplotlib.lines.Line2D at 0x7f9c3e4adb10>]"
            ]
          },
          "metadata": {},
          "execution_count": 10
        },
        {
          "output_type": "display_data",
          "data": {
            "text/plain": [
              "<Figure size 432x288 with 1 Axes>"
            ],
            "image/png": "[encoded data removed]"
          },
          "metadata": {
            "needs_background": "light"
          }
        }
      ]
    },
    {
      "cell_type": "markdown",
      "source": [
        "***"
      ],
      "metadata": {
        "id": "bvwO8PpTVnoN"
      }
    },
    {
      "cell_type": "markdown",
      "source": [
        "Job well done, everyone 😃"
      ],
      "metadata": {
        "id": "F2AuKw_bPVw8"
      }
    }
  ]
}
