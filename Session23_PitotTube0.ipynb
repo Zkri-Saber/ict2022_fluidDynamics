{
  "nbformat": 4,
  "nbformat_minor": 0,
  "metadata": {
    "colab": {
      "name": "Session23_PitotTube0.ipynb",
      "provenance": [],
      "collapsed_sections": [],
      "authorship_tag": "ABX9TyMRC1kGPXSpfi7WHw5Q9Ag/",
      "include_colab_link": true
    },
    "kernelspec": {
      "name": "python3",
      "display_name": "Python 3"
    },
    "language_info": {
      "name": "python"
    }
  },
  "cells": [
    {
      "cell_type": "markdown",
      "metadata": {
        "id": "view-in-github",
        "colab_type": "text"
      },
      "source": [
        "<a href=\"https://colab.research.google.com/github/greenty5/ict2022_fluidDynamics/blob/main/Session23_PitotTube0.ipynb\" target=\"_parent\"><img src=\"https://colab.research.google.com/assets/colab-badge.svg\" alt=\"Open In Colab\"/></a>"
      ]
    },
    {
      "cell_type": "markdown",
      "source": [
        "# Fluid Dynamics with Python (ICT Summer School 2022)\n",
        "## Section 2.1 Pitot tube\n",
        "***"
      ],
      "metadata": {
        "id": "8AOmqGvHr2Wf"
      }
    },
    {
      "cell_type": "markdown",
      "source": [
        "A pitot tube (pitot probe) measures fluid flow velocity. It was invented by a French engineer, Henri Pitot, in the early 18th century. It is widely used to determine the airspeed of aircraft; the water speed of boats; and the flow velocity of liquids, air, and gases in industry.\n",
        "\n",
        "![Pitot tube / Airplane](https://upload.wikimedia.org/wikipedia/commons/a/a4/B777-381_JA8752_nose_Pitot_tube_ja.jpg)\n",
        "\n",
        "![Pitot tube](https://upload.wikimedia.org/wikipedia/commons/thumb/4/47/Airspeed_p1230157.jpg/1024px-Airspeed_p1230157.jpg)"
      ],
      "metadata": {
        "id": "HS9FOm26Kz0u"
      }
    },
    {
      "cell_type": "markdown",
      "source": [
        "***\n",
        "\n",
        "# U-tube manometer\n",
        "\n",
        "Manometer consists of a column of liquid in a tube whose ends are exposed to different pressures. The column will rise or fall until its weight (a force applied due to gravity) is in equilibrium with the pressure differential between the two ends of the tube (a force applied due to fluid pressure). \n",
        "\n",
        "![](https://i.imgur.com/3qYt2Kf.png)\n",
        "\n",
        "A very simple version is a U-shaped tube half-full of liquid, one side of which is connected to the region of interest while the reference pressure (which might be the atmospheric pressure or a vacuum) is applied to the other. The difference in liquid levels represents the applied pressure. The pressure exerted by a column of fluid of height h and density $\\rho$ is given by the hydrostatic pressure equation; \n",
        "\n",
        "$$p = \\rho g h.$$\n",
        "\n",
        "Therefore, the pressure difference between the applied pressure $P_a$ and the reference pressure P0 in a U-tube manometer can be found by solving;\n",
        "\n",
        "$$P_a − P_0 = \\rho g h.$$ \n",
        "\n",
        "In other words, the pressure on either end of the liquid (shown in blue in the figure) must be balanced (since the liquid is static), and so ...\n",
        "\n",
        "$$P_a = P_0 + \\rho g h.$$\n",
        "\n",
        "![](https://i.imgur.com/74OURgw.png)\n"
      ],
      "metadata": {
        "id": "qcpy1B_nyzre"
      }
    },
    {
      "cell_type": "markdown",
      "source": [
        "---"
      ],
      "metadata": {
        "id": "FLVIzwHX8gw2"
      }
    },
    {
      "cell_type": "markdown",
      "source": [
        "## How to measure fluid flow velocity\n",
        "\n",
        "\n",
        "\n",
        "![](https://i.imgur.com/BhGL92V.png)\n",
        "![](https://i.imgur.com/BhGL92V.png)\n",
        "![](https://i.imgur.com/VtDRwbM.png)"
      ],
      "metadata": {
        "id": "gQzcnUBI8jVQ"
      }
    },
    {
      "cell_type": "markdown",
      "source": [
        "***"
      ],
      "metadata": {
        "id": "c3x7yLWiPS4_"
      }
    },
    {
      "cell_type": "markdown",
      "source": [
        "Job well done, everyone 😃"
      ],
      "metadata": {
        "id": "F2AuKw_bPVw8"
      }
    }
  ]
}