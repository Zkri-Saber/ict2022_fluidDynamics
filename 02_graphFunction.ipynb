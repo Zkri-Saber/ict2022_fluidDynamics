{
  "nbformat": 4,
  "nbformat_minor": 0,
  "metadata": {
    "colab": {
      "name": "00_graphFunction.ipynb",
      "provenance": [],
      "authorship_tag": "ABX9TyOF9U17uqOwmcezsWn16Cvk",
      "include_colab_link": true
    },
    "kernelspec": {
      "name": "python3",
      "display_name": "Python 3"
    },
    "language_info": {
      "name": "python"
    }
  },
  "cells": [
    {
      "cell_type": "markdown",
      "metadata": {
        "id": "view-in-github",
        "colab_type": "text"
      },
      "source": [
        "<a href=\"https://colab.research.google.com/github/greenty5/ict2022_fluidDynamics/blob/main/00_graphFunction.ipynb\" target=\"_parent\"><img src=\"https://colab.research.google.com/assets/colab-badge.svg\" alt=\"Open In Colab\"/></a>"
      ]
    },
    {
      "cell_type": "markdown",
      "source": [
        "## Fluid Dynamics with Python (ICT Summer School 2022)\n",
        "### Chapter 0.0 how to make user-defined function and draw graph by matplotlib"
      ],
      "metadata": {
        "id": "8AOmqGvHr2Wf"
      }
    },
    {
      "cell_type": "markdown",
      "source": [
        "In this ipynb file, let us learn how to use user-defined function and how to draw graph in google colabratory."
      ],
      "metadata": {
        "id": "hWKK-esYsJQO"
      }
    },
    {
      "cell_type": "markdown",
      "source": [
        "First of all, we have to import python laibraries as we learned the previous session."
      ],
      "metadata": {
        "id": "hhMWz8GPsUqc"
      }
    },
    {
      "cell_type": "code",
      "source": [
        "import numpy as np # fundamental package for scientific computing\n",
        "import matplotlib.pyplot as plt # visualization package"
      ],
      "metadata": {
        "id": "4AYhYtsrsdDv"
      },
      "execution_count": 9,
      "outputs": []
    },
    {
      "cell_type": "markdown",
      "source": [
        "Here, let us try to make a graph taht indicates sine curve as same with before. \n",
        "\n",
        "Firstly, let us make graph user-defined function as mentioned below:"
      ],
      "metadata": {
        "id": "5JqxZ7YFthBv"
      }
    },
    {
      "cell_type": "code",
      "source": [
        "def graph1(data1, data2, xAxis, yAxis):\n",
        "\n",
        "    ####################\n",
        "    fig1 = plt.figure(figsize=(8,8))\n",
        "\n",
        "    ################################\n",
        "    ax1 = fig1.add_subplot(211)\n",
        "    ax1.plot(data1, data2, label='')\n",
        "    ax1.grid(True)\n",
        "    ax1.set_xlabel(xAxis)\n",
        "    ax1.set_ylabel(yAxis)\n",
        "\n",
        "    fig1.tight_layout()  # グラフの文字がかぶらないようにする\n",
        "    plt.show()"
      ],
      "metadata": {
        "id": "cvoTqLR_YhnX"
      },
      "execution_count": 23,
      "outputs": []
    },
    {
      "cell_type": "markdown",
      "source": [
        "where, this function needs four arguments, x and y data and labels for x and y axises. Please note that the labels are string variables.\n",
        "\n",
        "Now let us prepare x and y data like,"
      ],
      "metadata": {
        "id": "x_zjQkGLhPwx"
      }
    },
    {
      "cell_type": "code",
      "source": [
        "x = np.linspace(0, 2*3.1415, 100)\n",
        "y = np.sin(x)"
      ],
      "metadata": {
        "id": "lZ5KNCqUtnXQ"
      },
      "execution_count": 24,
      "outputs": []
    },
    {
      "cell_type": "markdown",
      "source": [
        "and then we can draw a grah by using the user-defined function and data:"
      ],
      "metadata": {
        "id": "_lTljS_GiEbA"
      }
    },
    {
      "cell_type": "code",
      "source": [
        "graph1(x, y, 'Time [s]', 'U [m/s]')"
      ],
      "metadata": {
        "colab": {
          "base_uri": "https://localhost:8080/",
          "height": 318
        },
        "id": "6jeijNm-gufe",
        "outputId": "9521a4b5-c68a-406b-a541-306584ea2585"
      },
      "execution_count": 25,
      "outputs": [
        {
          "output_type": "display_data",
          "data": {
            "text/plain": [
              "<Figure size 576x576 with 1 Axes>"
            ],
            "image/png": "[encoded data removed]"
          },
          "metadata": {
            "needs_background": "light"
          }
        }
      ]
    },
    {
      "cell_type": "markdown",
      "source": [
        "We can just copy and use this function when we want to draw a graph."
      ],
      "metadata": {
        "id": "IxFlbCWoNr7f"
      }
    },
    {
      "cell_type": "markdown",
      "source": [
        "That's all for this session. Job well done 😀"
      ],
      "metadata": {
        "id": "uqA2ZvV7cCRV"
      }
    }
  ]
}
