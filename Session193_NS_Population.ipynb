{
  "cells": [
    {
      "cell_type": "markdown",
      "metadata": {
        "id": "view-in-github",
        "colab_type": "text"
      },
      "source": [
        "<a href=\"https://colab.research.google.com/github/greenty5/ict2022_fluidDynamics/blob/main/Session193_NS_Population.ipynb\" target=\"_parent\"><img src=\"https://colab.research.google.com/assets/colab-badge.svg\" alt=\"Open In Colab\"/></a>"
      ]
    },
    {
      "cell_type": "markdown",
      "metadata": {
        "id": "kIphjCuuWtMn"
      },
      "source": [
        "ICT Summer School 2022\n",
        "Population growth (curve fitting and parameter estimation)\n",
        "===\n",
        "---\n"
      ]
    },
    {
      "cell_type": "markdown",
      "metadata": {
        "id": "h4nVaUDmWtMq"
      },
      "source": [
        "### Curve fitting for non-linear function (how to estimate parameters of non-linear function）"
      ]
    },
    {
      "cell_type": "code",
      "execution_count": 2,
      "metadata": {
        "id": "6mX-AQxbWtMr"
      },
      "outputs": [],
      "source": [
        "# -*- coding: utf-8 -*-\n",
        "import numpy as np  \n",
        "import scipy.optimize as opt\n",
        "import matplotlib.pyplot as plt  \n",
        "\n",
        "%matplotlib inline"
      ]
    },
    {
      "cell_type": "markdown",
      "metadata": {
        "id": "0LHuieP9WtMs"
      },
      "source": [
        "#### In this code, we use integer number to express year instead of A.D."
      ]
    },
    {
      "cell_type": "code",
      "execution_count": 3,
      "metadata": {
        "id": "y7PRWFaNWtMs"
      },
      "outputs": [],
      "source": [
        "#1980 -  2010, Japan population (per thousand) every 5 years\n",
        "y = np.array([117060, 121049, 123611, 125570, 126926, 127768, 128057])\n",
        "x = np.arange(0,len(y))\n",
        "# the population continue to decrease from 2012"
      ]
    },
    {
      "cell_type": "code",
      "execution_count": null,
      "metadata": {
        "id": "2X2OY2gMWtMt"
      },
      "outputs": [],
      "source": [
        "# define population model as a function \n",
        "\n"
      ]
    },
    {
      "cell_type": "code",
      "execution_count": null,
      "metadata": {
        "id": "5POc3-JeWtMt",
        "outputId": "fc87e144-0e0f-44f0-c93b-399769e7c3fc"
      },
      "outputs": [
        {
          "data": {
            "text/plain": [
              "array([1.17056673e+05, 1.29238545e+05, 4.24640177e-01])"
            ]
          },
          "execution_count": 7,
          "metadata": {},
          "output_type": "execute_result"
        }
      ],
      "source": [
        "# estimation of the parameters of non-linear function\n",
        "\n",
        "\n"
      ]
    },
    {
      "cell_type": "code",
      "execution_count": null,
      "metadata": {
        "scrolled": true,
        "id": "02br62fwWtMu"
      },
      "outputs": [],
      "source": [
        "# calculating for graph\n",
        "pest= \n",
        "\n",
        "x2 = np.arange(-10, 20, 1)\n",
        "pest2= \n"
      ]
    },
    {
      "cell_type": "code",
      "execution_count": null,
      "metadata": {
        "id": "FKjsNJZeWtMv",
        "outputId": "0166edf4-5087-4c8a-8186-0d876773f744"
      },
      "outputs": [
        {
          "data": {
            "image/png": "[encoded data removed]",
            "text/plain": [
              "<Figure size 1008x288 with 2 Axes>"
            ]
          },
          "metadata": {
            "needs_background": "light"
          },
          "output_type": "display_data"
        }
      ],
      "source": [
        "fig, axs = plt.subplots(ncols=2, figsize=(14,4))\n",
        "\n",
        "#axs[0].plot(x, pest)\n",
        "axs[0].plot(x, pest)\n",
        "axs[0].scatter(x, y)\n",
        "axs[0].set_xlabel('Year')\n",
        "axs[0].set_ylabel('P')\n",
        "axs[0].grid()\n",
        "\n",
        "axs[1].plot(x2, pest2)\n",
        "axs[1].set_xlabel('Year')\n",
        "axs[1].set_ylabel('P')\n",
        "axs[1].grid()\n",
        "\n",
        "#plt.savefig('fig_NS_Population_01.png', bbox_inches='tight')\n",
        "plt.show()"
      ]
    },
    {
      "cell_type": "code",
      "execution_count": null,
      "metadata": {
        "id": "6jN0mbJ4WtMw"
      },
      "outputs": [],
      "source": [
        ""
      ]
    }
  ],
  "metadata": {
    "kernelspec": {
      "display_name": "Python 3.7.13 ('base')",
      "language": "python",
      "name": "python3"
    },
    "language_info": {
      "codemirror_mode": {
        "name": "ipython",
        "version": 3
      },
      "file_extension": ".py",
      "mimetype": "text/x-python",
      "name": "python",
      "nbconvert_exporter": "python",
      "pygments_lexer": "ipython3",
      "version": "3.7.13"
    },
    "vscode": {
      "interpreter": {
        "hash": "40d3a090f54c6569ab1632332b64b2c03c39dcf918b08424e98f38b5ae0af88f"
      }
    },
    "colab": {
      "name": "Session193_NS_Population.ipynb",
      "provenance": [],
      "collapsed_sections": [],
      "include_colab_link": true
    }
  },
  "nbformat": 4,
  "nbformat_minor": 0
}