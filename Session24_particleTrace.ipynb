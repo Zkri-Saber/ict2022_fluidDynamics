{
  "cells": [
    {
      "cell_type": "markdown",
      "metadata": {
        "id": "view-in-github",
        "colab_type": "text"
      },
      "source": [
        "<a href=\"https://colab.research.google.com/github/greenty5/ict2022_fluidDynamics/blob/main/Session24_particleTrace.ipynb\" target=\"_parent\"><img src=\"https://colab.research.google.com/assets/colab-badge.svg\" alt=\"Open In Colab\"/></a>"
      ]
    },
    {
      "cell_type": "markdown",
      "metadata": {
        "id": "fryxNPsVrbHS"
      },
      "source": [
        "Fluid Dynamics with Python (ICT Summer School 2022)\n",
        "\n",
        "Section 2.3 Flow visualization processing\n",
        "=====\n",
        "***\n",
        "\n",
        "In this jupyterLab file, let us learn how to visualize fluid flow by using experimentally video-recording particle movies. \n",
        "\n",
        "Please don't run this jupyterLab file on the Google Colabratory system because this processing is too big to the system. \n",
        "So, please download this file on your computer when you want to do the visualization experiments\n",
        "\n",
        "---"
      ]
    },
    {
      "cell_type": "code",
      "execution_count": null,
      "metadata": {
        "id": "SahqUwXtrbHY"
      },
      "outputs": [],
      "source": [
        "import matplotlib.pyplot as plt\n",
        "import numpy as np\n",
        "import cv2 # Open Source Computer Vision Library"
      ]
    },
    {
      "cell_type": "code",
      "execution_count": null,
      "metadata": {
        "id": "oeKJN33rrbHZ"
      },
      "outputs": [],
      "source": [
        "cap = cv2.VideoCapture( 'IMG_3057.MOV' ) # Input file\n",
        "#cap = cv2.VideoCapture( 'input.mov' ) # Input file\n",
        "isFirst = True  # sw for beginning frame \n",
        "while( cap.isOpened() ):\n",
        "    ret, frame = cap.read()     # Loading frames from input movie\n",
        "    if ret:\n",
        "        if isFirst: # i==0: #isFirst:\n",
        "            prvs = frame[ :, :, 2 ] # save as previous image (using green color)\n",
        "            # color matrix for flow velocity\n",
        "            rgb = np.zeros_like( frame ); rgb[...,0] = 0 # initializing (black)\n",
        "            fourcc = cv2.VideoWriter_fourcc(*'MJPG') # setting for output movie codec\n",
        "            # output movie setting: prvs(640,426,3) >> prvs.shape[::-1] (3,426,640)\n",
        "            out = cv2.VideoWriter( 'result.avi', fourcc, 30, prvs.shape[ ::-1 ] )            \n",
        "            # XY coordinate for felocity data (converting openCV data format to matplotlib data format)\n",
        "            X, Y = np.meshgrid( np.arange( 0, frame.shape[1] ), \n",
        "                                           np.arange( frame.shape[0], 0, -1 ) )\n",
        "        else:\n",
        "            next = frame[ :, :, 2 ]\n",
        "            flow = cv2.calcOpticalFlowFarneback(  # optical flow calculation\n",
        "               prvs, next, None, 0.5, 3, 15, 3, 5, 1.2, 0)\n",
        "            prvs = next  # saving calculated frames to prvs frames\n",
        "            rgb[..., 2] = cv2.normalize( flow[...,1], None, 0, 255, cv2.NORM_MINMAX )\n",
        "            rgb[..., 1] = 255 - rgb[..., 2]            \n",
        "            # flow field (rhs ... openCV coordinate, lhs ... matplotlib coordinate)\n",
        "            dx = flow[...,0]; dy = flow[...,1] \n",
        "            # drawing flow field using matplotlib\n",
        "            fig = plt.figure( figsize = prvs.shape[::-1], dpi=1 )\n",
        "            fig.patch.set_facecolor('black') \n",
        "            ax = fig.gca();  ax.axis('off')\n",
        "            plt.subplots_adjust(left=0, right=1, bottom=0, top=1)\n",
        "            pitch = 15      # interval of flow field drawing\n",
        "            plt.quiver( X[::pitch, ::pitch],    Y[ ::pitch, ::pitch ], \n",
        "                           dx[::pitch, ::pitch], -dy[::pitch, ::pitch],\n",
        "                np.sqrt( dx[::pitch, ::pitch]**2 + dy[::pitch, ::pitch]**2 ),\n",
        "                units=\"xy\", scale=0.05, cmap=\"RdYlBu\",\n",
        "                linewidth=7 )\n",
        "            fig.canvas.draw() # saving rendering results\n",
        "            image = np.array( fig.canvas.renderer._renderer )\n",
        "            plt.close(fig)\n",
        "            # save result as a movie\n",
        "            rgb = cv2.addWeighted( rgb, 0.5, image[...,0:3], 0.5, 1.0)\n",
        "            out.write( rgb )\n",
        "        isFirst = False\n",
        "    else:\n",
        "        cap.release(); out.release() # close input and output movies\n",
        "        break"
      ]
    },
    {
      "cell_type": "markdown",
      "metadata": {
        "id": "JMndK5pCrbHb"
      },
      "source": [
        "---\n",
        "This file is based on a code developed by @hirax\n",
        "(Book: Python Programing (ISBN 978-4-297-11637-8) 2020 by Hirabayashi Jun (Gihyou-sya))"
      ]
    },
    {
      "cell_type": "code",
      "execution_count": null,
      "metadata": {
        "id": "8JwndrWfrbHc"
      },
      "outputs": [],
      "source": [
        ""
      ]
    }
  ],
  "metadata": {
    "kernelspec": {
      "display_name": "Python 3.7.13 ('base')",
      "language": "python",
      "name": "python3"
    },
    "language_info": {
      "codemirror_mode": {
        "name": "ipython",
        "version": 3
      },
      "file_extension": ".py",
      "mimetype": "text/x-python",
      "name": "python",
      "nbconvert_exporter": "python",
      "pygments_lexer": "ipython3",
      "version": "3.7.13"
    },
    "vscode": {
      "interpreter": {
        "hash": "40d3a090f54c6569ab1632332b64b2c03c39dcf918b08424e98f38b5ae0af88f"
      }
    },
    "colab": {
      "name": "Session24_particleTrace.ipynb",
      "provenance": [],
      "include_colab_link": true
    }
  },
  "nbformat": 4,
  "nbformat_minor": 0
}